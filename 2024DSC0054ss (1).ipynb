{
 "cells": [
  {
   "cell_type": "markdown",
   "id": "03f61f1d-3788-4e2a-976c-ee68822b3d03",
   "metadata": {},
   "source": [
    "## End of Semister exam"
   ]
  },
  {
   "cell_type": "markdown",
   "id": "68a27040-e296-4fec-a67b-3432465f61d3",
   "metadata": {},
   "source": [
    "## Question number 1(a)"
   ]
  },
  {
   "cell_type": "code",
   "execution_count": 1,
   "id": "67f8cbc2-4157-46e4-ae78-62ad8e44820e",
   "metadata": {},
   "outputs": [],
   "source": [
    "import numpy as np"
   ]
  },
  {
   "cell_type": "code",
   "execution_count": 2,
   "id": "3e1685f1-5a15-4ec2-9060-b54a65689011",
   "metadata": {},
   "outputs": [],
   "source": [
    "import matplotlib.pyplot as plt"
   ]
  },
  {
   "cell_type": "code",
   "execution_count": 3,
   "id": "80816888-d2dc-4a75-ac81-3b0e1a3c4c01",
   "metadata": {},
   "outputs": [],
   "source": [
    "import pandas as pd"
   ]
  },
  {
   "cell_type": "code",
   "execution_count": 4,
   "id": "a37dfbbb-65f5-4b71-aec3-2f29c741ee90",
   "metadata": {},
   "outputs": [],
   "source": [
    "import  seaborn as sns"
   ]
  },
  {
   "cell_type": "code",
   "execution_count": 5,
   "id": "f5085208-d1e4-4dd3-ba39-1d756c0e213c",
   "metadata": {},
   "outputs": [
    {
     "data": {
      "text/html": [
       "<div>\n",
       "<style scoped>\n",
       "    .dataframe tbody tr th:only-of-type {\n",
       "        vertical-align: middle;\n",
       "    }\n",
       "\n",
       "    .dataframe tbody tr th {\n",
       "        vertical-align: top;\n",
       "    }\n",
       "\n",
       "    .dataframe thead th {\n",
       "        text-align: right;\n",
       "    }\n",
       "</style>\n",
       "<table border=\"1\" class=\"dataframe\">\n",
       "  <thead>\n",
       "    <tr style=\"text-align: right;\">\n",
       "      <th></th>\n",
       "      <th>Age</th>\n",
       "      <th>Sex</th>\n",
       "      <th>Marital_status</th>\n",
       "      <th>Number_of_children</th>\n",
       "      <th>Family_size</th>\n",
       "      <th>Education-degree_recode</th>\n",
       "      <th>Education-degree_recode 2</th>\n",
       "      <th>Education</th>\n",
       "      <th>Race_ethnicity-multi_recode</th>\n",
       "      <th>Immigrate-year</th>\n",
       "      <th>Birthplace_recode</th>\n",
       "      <th>Speaks_English</th>\n",
       "      <th>Employment_status</th>\n",
       "      <th>Income-wages</th>\n",
       "      <th>Region_recode</th>\n",
       "      <th>Region-division_recode</th>\n",
       "      <th>Moved</th>\n",
       "      <th>Year</th>\n",
       "      <th>state</th>\n",
       "    </tr>\n",
       "  </thead>\n",
       "  <tbody>\n",
       "    <tr>\n",
       "      <th>0</th>\n",
       "      <td>30</td>\n",
       "      <td>Male</td>\n",
       "      <td>Married, spouse present</td>\n",
       "      <td>2</td>\n",
       "      <td>4</td>\n",
       "      <td>Masterâ€™s or professional degree</td>\n",
       "      <td>Master or professional degree</td>\n",
       "      <td>Master or PhD or professional degree</td>\n",
       "      <td>Non-Hispanic White</td>\n",
       "      <td>0</td>\n",
       "      <td>U.S. state, territory, or outlying region</td>\n",
       "      <td>Yes, speaks only English</td>\n",
       "      <td>Employed</td>\n",
       "      <td>63000</td>\n",
       "      <td>South</td>\n",
       "      <td>East South Central</td>\n",
       "      <td>Same house</td>\n",
       "      <td>2020</td>\n",
       "      <td>Tennessee</td>\n",
       "    </tr>\n",
       "    <tr>\n",
       "      <th>1</th>\n",
       "      <td>28</td>\n",
       "      <td>Female</td>\n",
       "      <td>Married, spouse present</td>\n",
       "      <td>1 child present</td>\n",
       "      <td>3</td>\n",
       "      <td>Masterâ€™s or professional degree</td>\n",
       "      <td>Master or professional degree</td>\n",
       "      <td>Master or PhD or professional degree</td>\n",
       "      <td>Non-Hispanic White</td>\n",
       "      <td>0</td>\n",
       "      <td>U.S. state, territory, or outlying region</td>\n",
       "      <td>Yes, speaks only English</td>\n",
       "      <td>Employed</td>\n",
       "      <td>46000</td>\n",
       "      <td>South</td>\n",
       "      <td>East South Central</td>\n",
       "      <td>Same house</td>\n",
       "      <td>2020</td>\n",
       "      <td>Tennessee</td>\n",
       "    </tr>\n",
       "    <tr>\n",
       "      <th>2</th>\n",
       "      <td>34</td>\n",
       "      <td>Male</td>\n",
       "      <td>Married, spouse present</td>\n",
       "      <td>1 child present</td>\n",
       "      <td>3</td>\n",
       "      <td>Bachelorâ€™s degree</td>\n",
       "      <td>Bachelor degree</td>\n",
       "      <td>Associate or Bachelor degree</td>\n",
       "      <td>Non-Hispanic White</td>\n",
       "      <td>0</td>\n",
       "      <td>U.S. state, territory, or outlying region</td>\n",
       "      <td>Yes, speaks only English</td>\n",
       "      <td>Employed</td>\n",
       "      <td>45000</td>\n",
       "      <td>South</td>\n",
       "      <td>East South Central</td>\n",
       "      <td>Same house</td>\n",
       "      <td>2020</td>\n",
       "      <td>Tennessee</td>\n",
       "    </tr>\n",
       "    <tr>\n",
       "      <th>3</th>\n",
       "      <td>58</td>\n",
       "      <td>Female</td>\n",
       "      <td>Married, spouse absent</td>\n",
       "      <td>1 child present</td>\n",
       "      <td>2</td>\n",
       "      <td>1 or more years of college, no degree</td>\n",
       "      <td>1 or more years of college, no degree</td>\n",
       "      <td>1 or more years of college, no degree</td>\n",
       "      <td>Non-Hispanic White</td>\n",
       "      <td>0</td>\n",
       "      <td>U.S. state, territory, or outlying region</td>\n",
       "      <td>Yes, speaks only English</td>\n",
       "      <td>Employed</td>\n",
       "      <td>55000</td>\n",
       "      <td>South</td>\n",
       "      <td>East South Central</td>\n",
       "      <td>Same house</td>\n",
       "      <td>2020</td>\n",
       "      <td>Tennessee</td>\n",
       "    </tr>\n",
       "    <tr>\n",
       "      <th>4</th>\n",
       "      <td>39</td>\n",
       "      <td>Male</td>\n",
       "      <td>Never married/single</td>\n",
       "      <td>0 children present</td>\n",
       "      <td>1</td>\n",
       "      <td>Bachelorâ€™s degree</td>\n",
       "      <td>Bachelor degree</td>\n",
       "      <td>Associate or Bachelor degree</td>\n",
       "      <td>Non-Hispanic White</td>\n",
       "      <td>0</td>\n",
       "      <td>U.S. state, territory, or outlying region</td>\n",
       "      <td>Yes, speaks only English</td>\n",
       "      <td>Employed</td>\n",
       "      <td>12000</td>\n",
       "      <td>South</td>\n",
       "      <td>East South Central</td>\n",
       "      <td>Same house</td>\n",
       "      <td>2020</td>\n",
       "      <td>Tennessee</td>\n",
       "    </tr>\n",
       "    <tr>\n",
       "      <th>...</th>\n",
       "      <td>...</td>\n",
       "      <td>...</td>\n",
       "      <td>...</td>\n",
       "      <td>...</td>\n",
       "      <td>...</td>\n",
       "      <td>...</td>\n",
       "      <td>...</td>\n",
       "      <td>...</td>\n",
       "      <td>...</td>\n",
       "      <td>...</td>\n",
       "      <td>...</td>\n",
       "      <td>...</td>\n",
       "      <td>...</td>\n",
       "      <td>...</td>\n",
       "      <td>...</td>\n",
       "      <td>...</td>\n",
       "      <td>...</td>\n",
       "      <td>...</td>\n",
       "      <td>...</td>\n",
       "    </tr>\n",
       "    <tr>\n",
       "      <th>4360</th>\n",
       "      <td>67</td>\n",
       "      <td>Male</td>\n",
       "      <td>Married, spouse present</td>\n",
       "      <td>0 children present</td>\n",
       "      <td>2</td>\n",
       "      <td>Bachelorâ€™s degree</td>\n",
       "      <td>Bachelor degree</td>\n",
       "      <td>Associate or Bachelor degree</td>\n",
       "      <td>Non-Hispanic White</td>\n",
       "      <td>0</td>\n",
       "      <td>U.S. state, territory, or outlying region</td>\n",
       "      <td>Yes, speaks only English</td>\n",
       "      <td>Employed</td>\n",
       "      <td>40000</td>\n",
       "      <td>Midwest</td>\n",
       "      <td>West North Central</td>\n",
       "      <td>Same house</td>\n",
       "      <td>2020</td>\n",
       "      <td>North Dakota</td>\n",
       "    </tr>\n",
       "    <tr>\n",
       "      <th>4361</th>\n",
       "      <td>48</td>\n",
       "      <td>Male</td>\n",
       "      <td>Married, spouse present</td>\n",
       "      <td>4</td>\n",
       "      <td>6</td>\n",
       "      <td>Associateâ€™s degree</td>\n",
       "      <td>Associate degree</td>\n",
       "      <td>Associate or Bachelor degree</td>\n",
       "      <td>Non-Hispanic White</td>\n",
       "      <td>0</td>\n",
       "      <td>U.S. state, territory, or outlying region</td>\n",
       "      <td>Yes, speaks only English</td>\n",
       "      <td>Employed</td>\n",
       "      <td>65000</td>\n",
       "      <td>Midwest</td>\n",
       "      <td>West North Central</td>\n",
       "      <td>Same house</td>\n",
       "      <td>2020</td>\n",
       "      <td>North Dakota</td>\n",
       "    </tr>\n",
       "    <tr>\n",
       "      <th>4362</th>\n",
       "      <td>33</td>\n",
       "      <td>Male</td>\n",
       "      <td>Married, spouse absent</td>\n",
       "      <td>0 children present</td>\n",
       "      <td>1</td>\n",
       "      <td>Associateâ€™s degree</td>\n",
       "      <td>Associate degree</td>\n",
       "      <td>Associate or Bachelor degree</td>\n",
       "      <td>Non-Hispanic Black</td>\n",
       "      <td>2017</td>\n",
       "      <td>Africa</td>\n",
       "      <td>Yes, speaks very well</td>\n",
       "      <td>Employed</td>\n",
       "      <td>45000</td>\n",
       "      <td>Midwest</td>\n",
       "      <td>West North Central</td>\n",
       "      <td>Same house</td>\n",
       "      <td>2020</td>\n",
       "      <td>North Dakota</td>\n",
       "    </tr>\n",
       "    <tr>\n",
       "      <th>4363</th>\n",
       "      <td>22</td>\n",
       "      <td>Female</td>\n",
       "      <td>Never married/single</td>\n",
       "      <td>0 children present</td>\n",
       "      <td>2</td>\n",
       "      <td>1 or more years of college, no degree</td>\n",
       "      <td>1 or more years of college, no degree</td>\n",
       "      <td>1 or more years of college, no degree</td>\n",
       "      <td>Non-Hispanic White</td>\n",
       "      <td>0</td>\n",
       "      <td>U.S. state, territory, or outlying region</td>\n",
       "      <td>Yes, speaks only English</td>\n",
       "      <td>Employed</td>\n",
       "      <td>500</td>\n",
       "      <td>Midwest</td>\n",
       "      <td>West North Central</td>\n",
       "      <td>Same house</td>\n",
       "      <td>2020</td>\n",
       "      <td>North Dakota</td>\n",
       "    </tr>\n",
       "    <tr>\n",
       "      <th>4364</th>\n",
       "      <td>49</td>\n",
       "      <td>Female</td>\n",
       "      <td>Married, spouse present</td>\n",
       "      <td>2</td>\n",
       "      <td>4</td>\n",
       "      <td>Masterâ€™s or professional degree</td>\n",
       "      <td>Master or professional degree</td>\n",
       "      <td>Master or PhD or professional degree</td>\n",
       "      <td>Non-Hispanic White</td>\n",
       "      <td>0</td>\n",
       "      <td>U.S. state, territory, or outlying region</td>\n",
       "      <td>Yes, speaks only English</td>\n",
       "      <td>Employed</td>\n",
       "      <td>498000</td>\n",
       "      <td>Midwest</td>\n",
       "      <td>West North Central</td>\n",
       "      <td>Same house</td>\n",
       "      <td>2020</td>\n",
       "      <td>North Dakota</td>\n",
       "    </tr>\n",
       "  </tbody>\n",
       "</table>\n",
       "<p>4365 rows × 19 columns</p>\n",
       "</div>"
      ],
      "text/plain": [
       "      Age     Sex           Marital_status  Number_of_children  Family_size  \\\n",
       "0      30    Male  Married, spouse present                   2            4   \n",
       "1      28  Female  Married, spouse present     1 child present            3   \n",
       "2      34    Male  Married, spouse present     1 child present            3   \n",
       "3      58  Female   Married, spouse absent     1 child present            2   \n",
       "4      39    Male     Never married/single  0 children present            1   \n",
       "...   ...     ...                      ...                 ...          ...   \n",
       "4360   67    Male  Married, spouse present  0 children present            2   \n",
       "4361   48    Male  Married, spouse present                   4            6   \n",
       "4362   33    Male   Married, spouse absent  0 children present            1   \n",
       "4363   22  Female     Never married/single  0 children present            2   \n",
       "4364   49  Female  Married, spouse present                   2            4   \n",
       "\n",
       "                    Education-degree_recode  \\\n",
       "0         Masterâ€™s or professional degree   \n",
       "1         Masterâ€™s or professional degree   \n",
       "2                       Bachelorâ€™s degree   \n",
       "3     1 or more years of college, no degree   \n",
       "4                       Bachelorâ€™s degree   \n",
       "...                                     ...   \n",
       "4360                    Bachelorâ€™s degree   \n",
       "4361                   Associateâ€™s degree   \n",
       "4362                   Associateâ€™s degree   \n",
       "4363  1 or more years of college, no degree   \n",
       "4364      Masterâ€™s or professional degree   \n",
       "\n",
       "                  Education-degree_recode 2  \\\n",
       "0             Master or professional degree   \n",
       "1             Master or professional degree   \n",
       "2                           Bachelor degree   \n",
       "3     1 or more years of college, no degree   \n",
       "4                           Bachelor degree   \n",
       "...                                     ...   \n",
       "4360                        Bachelor degree   \n",
       "4361                       Associate degree   \n",
       "4362                       Associate degree   \n",
       "4363  1 or more years of college, no degree   \n",
       "4364          Master or professional degree   \n",
       "\n",
       "                                  Education Race_ethnicity-multi_recode  \\\n",
       "0      Master or PhD or professional degree          Non-Hispanic White   \n",
       "1      Master or PhD or professional degree          Non-Hispanic White   \n",
       "2              Associate or Bachelor degree          Non-Hispanic White   \n",
       "3     1 or more years of college, no degree          Non-Hispanic White   \n",
       "4              Associate or Bachelor degree          Non-Hispanic White   \n",
       "...                                     ...                         ...   \n",
       "4360           Associate or Bachelor degree          Non-Hispanic White   \n",
       "4361           Associate or Bachelor degree          Non-Hispanic White   \n",
       "4362           Associate or Bachelor degree          Non-Hispanic Black   \n",
       "4363  1 or more years of college, no degree          Non-Hispanic White   \n",
       "4364   Master or PhD or professional degree          Non-Hispanic White   \n",
       "\n",
       "      Immigrate-year                          Birthplace_recode  \\\n",
       "0                  0  U.S. state, territory, or outlying region   \n",
       "1                  0  U.S. state, territory, or outlying region   \n",
       "2                  0  U.S. state, territory, or outlying region   \n",
       "3                  0  U.S. state, territory, or outlying region   \n",
       "4                  0  U.S. state, territory, or outlying region   \n",
       "...              ...                                        ...   \n",
       "4360               0  U.S. state, territory, or outlying region   \n",
       "4361               0  U.S. state, territory, or outlying region   \n",
       "4362            2017                                     Africa   \n",
       "4363               0  U.S. state, territory, or outlying region   \n",
       "4364               0  U.S. state, territory, or outlying region   \n",
       "\n",
       "                Speaks_English Employment_status  Income-wages Region_recode  \\\n",
       "0     Yes, speaks only English          Employed         63000         South   \n",
       "1     Yes, speaks only English          Employed         46000         South   \n",
       "2     Yes, speaks only English          Employed         45000         South   \n",
       "3     Yes, speaks only English          Employed         55000         South   \n",
       "4     Yes, speaks only English          Employed         12000         South   \n",
       "...                        ...               ...           ...           ...   \n",
       "4360  Yes, speaks only English          Employed         40000       Midwest   \n",
       "4361  Yes, speaks only English          Employed         65000       Midwest   \n",
       "4362     Yes, speaks very well          Employed         45000       Midwest   \n",
       "4363  Yes, speaks only English          Employed           500       Midwest   \n",
       "4364  Yes, speaks only English          Employed        498000       Midwest   \n",
       "\n",
       "     Region-division_recode       Moved  Year         state  \n",
       "0        East South Central  Same house  2020     Tennessee  \n",
       "1        East South Central  Same house  2020     Tennessee  \n",
       "2        East South Central  Same house  2020     Tennessee  \n",
       "3        East South Central  Same house  2020     Tennessee  \n",
       "4        East South Central  Same house  2020     Tennessee  \n",
       "...                     ...         ...   ...           ...  \n",
       "4360     West North Central  Same house  2020  North Dakota  \n",
       "4361     West North Central  Same house  2020  North Dakota  \n",
       "4362     West North Central  Same house  2020  North Dakota  \n",
       "4363     West North Central  Same house  2020  North Dakota  \n",
       "4364     West North Central  Same house  2020  North Dakota  \n",
       "\n",
       "[4365 rows x 19 columns]"
      ]
     },
     "execution_count": 5,
     "metadata": {},
     "output_type": "execute_result"
    }
   ],
   "source": [
    "df=pd.read_excel('Wages 2020Census cleaned.xlsx')\n",
    "df"
   ]
  },
  {
   "cell_type": "code",
   "execution_count": 6,
   "id": "6a511aef-461f-4724-a838-7631cadb7263",
   "metadata": {},
   "outputs": [],
   "source": [
    "# question(a)’typical’ yearly income\n",
    "# (from math concept, get the total yearly income divided by the total number given (mean))"
   ]
  },
  {
   "cell_type": "code",
   "execution_count": 7,
   "id": "38d05c77-c0e2-49dc-8d76-35147993dec3",
   "metadata": {},
   "outputs": [
    {
     "data": {
      "text/html": [
       "<div>\n",
       "<style scoped>\n",
       "    .dataframe tbody tr th:only-of-type {\n",
       "        vertical-align: middle;\n",
       "    }\n",
       "\n",
       "    .dataframe tbody tr th {\n",
       "        vertical-align: top;\n",
       "    }\n",
       "\n",
       "    .dataframe thead th {\n",
       "        text-align: right;\n",
       "    }\n",
       "</style>\n",
       "<table border=\"1\" class=\"dataframe\">\n",
       "  <thead>\n",
       "    <tr style=\"text-align: right;\">\n",
       "      <th></th>\n",
       "      <th>Age</th>\n",
       "      <th>Sex</th>\n",
       "      <th>Marital_status</th>\n",
       "      <th>Number_of_children</th>\n",
       "      <th>Family_size</th>\n",
       "      <th>Education-degree_recode</th>\n",
       "      <th>Education-degree_recode 2</th>\n",
       "      <th>Education</th>\n",
       "      <th>Race_ethnicity-multi_recode</th>\n",
       "      <th>Immigrate-year</th>\n",
       "      <th>Birthplace_recode</th>\n",
       "      <th>Speaks_English</th>\n",
       "      <th>Employment_status</th>\n",
       "      <th>Income-wages</th>\n",
       "      <th>Region_recode</th>\n",
       "      <th>Region-division_recode</th>\n",
       "      <th>Moved</th>\n",
       "      <th>Year</th>\n",
       "      <th>state</th>\n",
       "    </tr>\n",
       "  </thead>\n",
       "  <tbody>\n",
       "    <tr>\n",
       "      <th>0</th>\n",
       "      <td>30</td>\n",
       "      <td>Male</td>\n",
       "      <td>Married, spouse present</td>\n",
       "      <td>2</td>\n",
       "      <td>4</td>\n",
       "      <td>Masterâ€™s or professional degree</td>\n",
       "      <td>Master or professional degree</td>\n",
       "      <td>Master or PhD or professional degree</td>\n",
       "      <td>Non-Hispanic White</td>\n",
       "      <td>0</td>\n",
       "      <td>U.S. state, territory, or outlying region</td>\n",
       "      <td>Yes, speaks only English</td>\n",
       "      <td>Employed</td>\n",
       "      <td>63000</td>\n",
       "      <td>South</td>\n",
       "      <td>East South Central</td>\n",
       "      <td>Same house</td>\n",
       "      <td>2020</td>\n",
       "      <td>Tennessee</td>\n",
       "    </tr>\n",
       "    <tr>\n",
       "      <th>1</th>\n",
       "      <td>28</td>\n",
       "      <td>Female</td>\n",
       "      <td>Married, spouse present</td>\n",
       "      <td>1 child present</td>\n",
       "      <td>3</td>\n",
       "      <td>Masterâ€™s or professional degree</td>\n",
       "      <td>Master or professional degree</td>\n",
       "      <td>Master or PhD or professional degree</td>\n",
       "      <td>Non-Hispanic White</td>\n",
       "      <td>0</td>\n",
       "      <td>U.S. state, territory, or outlying region</td>\n",
       "      <td>Yes, speaks only English</td>\n",
       "      <td>Employed</td>\n",
       "      <td>46000</td>\n",
       "      <td>South</td>\n",
       "      <td>East South Central</td>\n",
       "      <td>Same house</td>\n",
       "      <td>2020</td>\n",
       "      <td>Tennessee</td>\n",
       "    </tr>\n",
       "    <tr>\n",
       "      <th>2</th>\n",
       "      <td>34</td>\n",
       "      <td>Male</td>\n",
       "      <td>Married, spouse present</td>\n",
       "      <td>1 child present</td>\n",
       "      <td>3</td>\n",
       "      <td>Bachelorâ€™s degree</td>\n",
       "      <td>Bachelor degree</td>\n",
       "      <td>Associate or Bachelor degree</td>\n",
       "      <td>Non-Hispanic White</td>\n",
       "      <td>0</td>\n",
       "      <td>U.S. state, territory, or outlying region</td>\n",
       "      <td>Yes, speaks only English</td>\n",
       "      <td>Employed</td>\n",
       "      <td>45000</td>\n",
       "      <td>South</td>\n",
       "      <td>East South Central</td>\n",
       "      <td>Same house</td>\n",
       "      <td>2020</td>\n",
       "      <td>Tennessee</td>\n",
       "    </tr>\n",
       "    <tr>\n",
       "      <th>3</th>\n",
       "      <td>58</td>\n",
       "      <td>Female</td>\n",
       "      <td>Married, spouse absent</td>\n",
       "      <td>1 child present</td>\n",
       "      <td>2</td>\n",
       "      <td>1 or more years of college, no degree</td>\n",
       "      <td>1 or more years of college, no degree</td>\n",
       "      <td>1 or more years of college, no degree</td>\n",
       "      <td>Non-Hispanic White</td>\n",
       "      <td>0</td>\n",
       "      <td>U.S. state, territory, or outlying region</td>\n",
       "      <td>Yes, speaks only English</td>\n",
       "      <td>Employed</td>\n",
       "      <td>55000</td>\n",
       "      <td>South</td>\n",
       "      <td>East South Central</td>\n",
       "      <td>Same house</td>\n",
       "      <td>2020</td>\n",
       "      <td>Tennessee</td>\n",
       "    </tr>\n",
       "    <tr>\n",
       "      <th>4</th>\n",
       "      <td>39</td>\n",
       "      <td>Male</td>\n",
       "      <td>Never married/single</td>\n",
       "      <td>0 children present</td>\n",
       "      <td>1</td>\n",
       "      <td>Bachelorâ€™s degree</td>\n",
       "      <td>Bachelor degree</td>\n",
       "      <td>Associate or Bachelor degree</td>\n",
       "      <td>Non-Hispanic White</td>\n",
       "      <td>0</td>\n",
       "      <td>U.S. state, territory, or outlying region</td>\n",
       "      <td>Yes, speaks only English</td>\n",
       "      <td>Employed</td>\n",
       "      <td>12000</td>\n",
       "      <td>South</td>\n",
       "      <td>East South Central</td>\n",
       "      <td>Same house</td>\n",
       "      <td>2020</td>\n",
       "      <td>Tennessee</td>\n",
       "    </tr>\n",
       "  </tbody>\n",
       "</table>\n",
       "</div>"
      ],
      "text/plain": [
       "   Age     Sex           Marital_status  Number_of_children  Family_size  \\\n",
       "0   30    Male  Married, spouse present                   2            4   \n",
       "1   28  Female  Married, spouse present     1 child present            3   \n",
       "2   34    Male  Married, spouse present     1 child present            3   \n",
       "3   58  Female   Married, spouse absent     1 child present            2   \n",
       "4   39    Male     Never married/single  0 children present            1   \n",
       "\n",
       "                 Education-degree_recode  \\\n",
       "0      Masterâ€™s or professional degree   \n",
       "1      Masterâ€™s or professional degree   \n",
       "2                    Bachelorâ€™s degree   \n",
       "3  1 or more years of college, no degree   \n",
       "4                    Bachelorâ€™s degree   \n",
       "\n",
       "               Education-degree_recode 2  \\\n",
       "0          Master or professional degree   \n",
       "1          Master or professional degree   \n",
       "2                        Bachelor degree   \n",
       "3  1 or more years of college, no degree   \n",
       "4                        Bachelor degree   \n",
       "\n",
       "                               Education Race_ethnicity-multi_recode  \\\n",
       "0   Master or PhD or professional degree          Non-Hispanic White   \n",
       "1   Master or PhD or professional degree          Non-Hispanic White   \n",
       "2           Associate or Bachelor degree          Non-Hispanic White   \n",
       "3  1 or more years of college, no degree          Non-Hispanic White   \n",
       "4           Associate or Bachelor degree          Non-Hispanic White   \n",
       "\n",
       "   Immigrate-year                          Birthplace_recode  \\\n",
       "0               0  U.S. state, territory, or outlying region   \n",
       "1               0  U.S. state, territory, or outlying region   \n",
       "2               0  U.S. state, territory, or outlying region   \n",
       "3               0  U.S. state, territory, or outlying region   \n",
       "4               0  U.S. state, territory, or outlying region   \n",
       "\n",
       "             Speaks_English Employment_status  Income-wages Region_recode  \\\n",
       "0  Yes, speaks only English          Employed         63000         South   \n",
       "1  Yes, speaks only English          Employed         46000         South   \n",
       "2  Yes, speaks only English          Employed         45000         South   \n",
       "3  Yes, speaks only English          Employed         55000         South   \n",
       "4  Yes, speaks only English          Employed         12000         South   \n",
       "\n",
       "  Region-division_recode       Moved  Year      state  \n",
       "0     East South Central  Same house  2020  Tennessee  \n",
       "1     East South Central  Same house  2020  Tennessee  \n",
       "2     East South Central  Same house  2020  Tennessee  \n",
       "3     East South Central  Same house  2020  Tennessee  \n",
       "4     East South Central  Same house  2020  Tennessee  "
      ]
     },
     "execution_count": 7,
     "metadata": {},
     "output_type": "execute_result"
    }
   ],
   "source": [
    "df.head() "
   ]
  },
  {
   "cell_type": "code",
   "execution_count": 8,
   "id": "a56929c4-f9df-4ece-b528-ad09bb8d3d09",
   "metadata": {},
   "outputs": [
    {
     "data": {
      "text/plain": [
       "58704.16494845361"
      ]
     },
     "execution_count": 8,
     "metadata": {},
     "output_type": "execute_result"
    }
   ],
   "source": [
    "df=df['Income-wages'].mean()\n",
    "df"
   ]
  },
  {
   "cell_type": "code",
   "execution_count": 9,
   "id": "6dde4342-e2ba-4fba-8aa2-0dc0156751c7",
   "metadata": {},
   "outputs": [],
   "source": [
    "# question (1)b"
   ]
  },
  {
   "cell_type": "code",
   "execution_count": 10,
   "id": "be3d5b0e-3f04-4650-8b2d-ae1e99371036",
   "metadata": {},
   "outputs": [
    {
     "data": {
      "text/html": [
       "<div>\n",
       "<style scoped>\n",
       "    .dataframe tbody tr th:only-of-type {\n",
       "        vertical-align: middle;\n",
       "    }\n",
       "\n",
       "    .dataframe tbody tr th {\n",
       "        vertical-align: top;\n",
       "    }\n",
       "\n",
       "    .dataframe thead th {\n",
       "        text-align: right;\n",
       "    }\n",
       "</style>\n",
       "<table border=\"1\" class=\"dataframe\">\n",
       "  <thead>\n",
       "    <tr style=\"text-align: right;\">\n",
       "      <th></th>\n",
       "      <th>Age</th>\n",
       "      <th>Sex</th>\n",
       "      <th>Marital_status</th>\n",
       "      <th>Number_of_children</th>\n",
       "      <th>Family_size</th>\n",
       "      <th>Education-degree_recode</th>\n",
       "      <th>Education-degree_recode 2</th>\n",
       "      <th>Education</th>\n",
       "      <th>Race_ethnicity-multi_recode</th>\n",
       "      <th>Immigrate-year</th>\n",
       "      <th>Birthplace_recode</th>\n",
       "      <th>Speaks_English</th>\n",
       "      <th>Employment_status</th>\n",
       "      <th>Income-wages</th>\n",
       "      <th>Region_recode</th>\n",
       "      <th>Region-division_recode</th>\n",
       "      <th>Moved</th>\n",
       "      <th>Year</th>\n",
       "      <th>state</th>\n",
       "    </tr>\n",
       "  </thead>\n",
       "  <tbody>\n",
       "    <tr>\n",
       "      <th>0</th>\n",
       "      <td>30</td>\n",
       "      <td>Male</td>\n",
       "      <td>Married, spouse present</td>\n",
       "      <td>2</td>\n",
       "      <td>4</td>\n",
       "      <td>Masterâ€™s or professional degree</td>\n",
       "      <td>Master or professional degree</td>\n",
       "      <td>Master or PhD or professional degree</td>\n",
       "      <td>Non-Hispanic White</td>\n",
       "      <td>0</td>\n",
       "      <td>U.S. state, territory, or outlying region</td>\n",
       "      <td>Yes, speaks only English</td>\n",
       "      <td>Employed</td>\n",
       "      <td>63000</td>\n",
       "      <td>South</td>\n",
       "      <td>East South Central</td>\n",
       "      <td>Same house</td>\n",
       "      <td>2020</td>\n",
       "      <td>Tennessee</td>\n",
       "    </tr>\n",
       "    <tr>\n",
       "      <th>1</th>\n",
       "      <td>28</td>\n",
       "      <td>Female</td>\n",
       "      <td>Married, spouse present</td>\n",
       "      <td>1 child present</td>\n",
       "      <td>3</td>\n",
       "      <td>Masterâ€™s or professional degree</td>\n",
       "      <td>Master or professional degree</td>\n",
       "      <td>Master or PhD or professional degree</td>\n",
       "      <td>Non-Hispanic White</td>\n",
       "      <td>0</td>\n",
       "      <td>U.S. state, territory, or outlying region</td>\n",
       "      <td>Yes, speaks only English</td>\n",
       "      <td>Employed</td>\n",
       "      <td>46000</td>\n",
       "      <td>South</td>\n",
       "      <td>East South Central</td>\n",
       "      <td>Same house</td>\n",
       "      <td>2020</td>\n",
       "      <td>Tennessee</td>\n",
       "    </tr>\n",
       "    <tr>\n",
       "      <th>2</th>\n",
       "      <td>34</td>\n",
       "      <td>Male</td>\n",
       "      <td>Married, spouse present</td>\n",
       "      <td>1 child present</td>\n",
       "      <td>3</td>\n",
       "      <td>Bachelorâ€™s degree</td>\n",
       "      <td>Bachelor degree</td>\n",
       "      <td>Associate or Bachelor degree</td>\n",
       "      <td>Non-Hispanic White</td>\n",
       "      <td>0</td>\n",
       "      <td>U.S. state, territory, or outlying region</td>\n",
       "      <td>Yes, speaks only English</td>\n",
       "      <td>Employed</td>\n",
       "      <td>45000</td>\n",
       "      <td>South</td>\n",
       "      <td>East South Central</td>\n",
       "      <td>Same house</td>\n",
       "      <td>2020</td>\n",
       "      <td>Tennessee</td>\n",
       "    </tr>\n",
       "    <tr>\n",
       "      <th>3</th>\n",
       "      <td>58</td>\n",
       "      <td>Female</td>\n",
       "      <td>Married, spouse absent</td>\n",
       "      <td>1 child present</td>\n",
       "      <td>2</td>\n",
       "      <td>1 or more years of college, no degree</td>\n",
       "      <td>1 or more years of college, no degree</td>\n",
       "      <td>1 or more years of college, no degree</td>\n",
       "      <td>Non-Hispanic White</td>\n",
       "      <td>0</td>\n",
       "      <td>U.S. state, territory, or outlying region</td>\n",
       "      <td>Yes, speaks only English</td>\n",
       "      <td>Employed</td>\n",
       "      <td>55000</td>\n",
       "      <td>South</td>\n",
       "      <td>East South Central</td>\n",
       "      <td>Same house</td>\n",
       "      <td>2020</td>\n",
       "      <td>Tennessee</td>\n",
       "    </tr>\n",
       "    <tr>\n",
       "      <th>4</th>\n",
       "      <td>39</td>\n",
       "      <td>Male</td>\n",
       "      <td>Never married/single</td>\n",
       "      <td>0 children present</td>\n",
       "      <td>1</td>\n",
       "      <td>Bachelorâ€™s degree</td>\n",
       "      <td>Bachelor degree</td>\n",
       "      <td>Associate or Bachelor degree</td>\n",
       "      <td>Non-Hispanic White</td>\n",
       "      <td>0</td>\n",
       "      <td>U.S. state, territory, or outlying region</td>\n",
       "      <td>Yes, speaks only English</td>\n",
       "      <td>Employed</td>\n",
       "      <td>12000</td>\n",
       "      <td>South</td>\n",
       "      <td>East South Central</td>\n",
       "      <td>Same house</td>\n",
       "      <td>2020</td>\n",
       "      <td>Tennessee</td>\n",
       "    </tr>\n",
       "    <tr>\n",
       "      <th>...</th>\n",
       "      <td>...</td>\n",
       "      <td>...</td>\n",
       "      <td>...</td>\n",
       "      <td>...</td>\n",
       "      <td>...</td>\n",
       "      <td>...</td>\n",
       "      <td>...</td>\n",
       "      <td>...</td>\n",
       "      <td>...</td>\n",
       "      <td>...</td>\n",
       "      <td>...</td>\n",
       "      <td>...</td>\n",
       "      <td>...</td>\n",
       "      <td>...</td>\n",
       "      <td>...</td>\n",
       "      <td>...</td>\n",
       "      <td>...</td>\n",
       "      <td>...</td>\n",
       "      <td>...</td>\n",
       "    </tr>\n",
       "    <tr>\n",
       "      <th>4360</th>\n",
       "      <td>67</td>\n",
       "      <td>Male</td>\n",
       "      <td>Married, spouse present</td>\n",
       "      <td>0 children present</td>\n",
       "      <td>2</td>\n",
       "      <td>Bachelorâ€™s degree</td>\n",
       "      <td>Bachelor degree</td>\n",
       "      <td>Associate or Bachelor degree</td>\n",
       "      <td>Non-Hispanic White</td>\n",
       "      <td>0</td>\n",
       "      <td>U.S. state, territory, or outlying region</td>\n",
       "      <td>Yes, speaks only English</td>\n",
       "      <td>Employed</td>\n",
       "      <td>40000</td>\n",
       "      <td>Midwest</td>\n",
       "      <td>West North Central</td>\n",
       "      <td>Same house</td>\n",
       "      <td>2020</td>\n",
       "      <td>North Dakota</td>\n",
       "    </tr>\n",
       "    <tr>\n",
       "      <th>4361</th>\n",
       "      <td>48</td>\n",
       "      <td>Male</td>\n",
       "      <td>Married, spouse present</td>\n",
       "      <td>4</td>\n",
       "      <td>6</td>\n",
       "      <td>Associateâ€™s degree</td>\n",
       "      <td>Associate degree</td>\n",
       "      <td>Associate or Bachelor degree</td>\n",
       "      <td>Non-Hispanic White</td>\n",
       "      <td>0</td>\n",
       "      <td>U.S. state, territory, or outlying region</td>\n",
       "      <td>Yes, speaks only English</td>\n",
       "      <td>Employed</td>\n",
       "      <td>65000</td>\n",
       "      <td>Midwest</td>\n",
       "      <td>West North Central</td>\n",
       "      <td>Same house</td>\n",
       "      <td>2020</td>\n",
       "      <td>North Dakota</td>\n",
       "    </tr>\n",
       "    <tr>\n",
       "      <th>4362</th>\n",
       "      <td>33</td>\n",
       "      <td>Male</td>\n",
       "      <td>Married, spouse absent</td>\n",
       "      <td>0 children present</td>\n",
       "      <td>1</td>\n",
       "      <td>Associateâ€™s degree</td>\n",
       "      <td>Associate degree</td>\n",
       "      <td>Associate or Bachelor degree</td>\n",
       "      <td>Non-Hispanic Black</td>\n",
       "      <td>2017</td>\n",
       "      <td>Africa</td>\n",
       "      <td>Yes, speaks very well</td>\n",
       "      <td>Employed</td>\n",
       "      <td>45000</td>\n",
       "      <td>Midwest</td>\n",
       "      <td>West North Central</td>\n",
       "      <td>Same house</td>\n",
       "      <td>2020</td>\n",
       "      <td>North Dakota</td>\n",
       "    </tr>\n",
       "    <tr>\n",
       "      <th>4363</th>\n",
       "      <td>22</td>\n",
       "      <td>Female</td>\n",
       "      <td>Never married/single</td>\n",
       "      <td>0 children present</td>\n",
       "      <td>2</td>\n",
       "      <td>1 or more years of college, no degree</td>\n",
       "      <td>1 or more years of college, no degree</td>\n",
       "      <td>1 or more years of college, no degree</td>\n",
       "      <td>Non-Hispanic White</td>\n",
       "      <td>0</td>\n",
       "      <td>U.S. state, territory, or outlying region</td>\n",
       "      <td>Yes, speaks only English</td>\n",
       "      <td>Employed</td>\n",
       "      <td>500</td>\n",
       "      <td>Midwest</td>\n",
       "      <td>West North Central</td>\n",
       "      <td>Same house</td>\n",
       "      <td>2020</td>\n",
       "      <td>North Dakota</td>\n",
       "    </tr>\n",
       "    <tr>\n",
       "      <th>4364</th>\n",
       "      <td>49</td>\n",
       "      <td>Female</td>\n",
       "      <td>Married, spouse present</td>\n",
       "      <td>2</td>\n",
       "      <td>4</td>\n",
       "      <td>Masterâ€™s or professional degree</td>\n",
       "      <td>Master or professional degree</td>\n",
       "      <td>Master or PhD or professional degree</td>\n",
       "      <td>Non-Hispanic White</td>\n",
       "      <td>0</td>\n",
       "      <td>U.S. state, territory, or outlying region</td>\n",
       "      <td>Yes, speaks only English</td>\n",
       "      <td>Employed</td>\n",
       "      <td>498000</td>\n",
       "      <td>Midwest</td>\n",
       "      <td>West North Central</td>\n",
       "      <td>Same house</td>\n",
       "      <td>2020</td>\n",
       "      <td>North Dakota</td>\n",
       "    </tr>\n",
       "  </tbody>\n",
       "</table>\n",
       "<p>4365 rows × 19 columns</p>\n",
       "</div>"
      ],
      "text/plain": [
       "      Age     Sex           Marital_status  Number_of_children  Family_size  \\\n",
       "0      30    Male  Married, spouse present                   2            4   \n",
       "1      28  Female  Married, spouse present     1 child present            3   \n",
       "2      34    Male  Married, spouse present     1 child present            3   \n",
       "3      58  Female   Married, spouse absent     1 child present            2   \n",
       "4      39    Male     Never married/single  0 children present            1   \n",
       "...   ...     ...                      ...                 ...          ...   \n",
       "4360   67    Male  Married, spouse present  0 children present            2   \n",
       "4361   48    Male  Married, spouse present                   4            6   \n",
       "4362   33    Male   Married, spouse absent  0 children present            1   \n",
       "4363   22  Female     Never married/single  0 children present            2   \n",
       "4364   49  Female  Married, spouse present                   2            4   \n",
       "\n",
       "                    Education-degree_recode  \\\n",
       "0         Masterâ€™s or professional degree   \n",
       "1         Masterâ€™s or professional degree   \n",
       "2                       Bachelorâ€™s degree   \n",
       "3     1 or more years of college, no degree   \n",
       "4                       Bachelorâ€™s degree   \n",
       "...                                     ...   \n",
       "4360                    Bachelorâ€™s degree   \n",
       "4361                   Associateâ€™s degree   \n",
       "4362                   Associateâ€™s degree   \n",
       "4363  1 or more years of college, no degree   \n",
       "4364      Masterâ€™s or professional degree   \n",
       "\n",
       "                  Education-degree_recode 2  \\\n",
       "0             Master or professional degree   \n",
       "1             Master or professional degree   \n",
       "2                           Bachelor degree   \n",
       "3     1 or more years of college, no degree   \n",
       "4                           Bachelor degree   \n",
       "...                                     ...   \n",
       "4360                        Bachelor degree   \n",
       "4361                       Associate degree   \n",
       "4362                       Associate degree   \n",
       "4363  1 or more years of college, no degree   \n",
       "4364          Master or professional degree   \n",
       "\n",
       "                                  Education Race_ethnicity-multi_recode  \\\n",
       "0      Master or PhD or professional degree          Non-Hispanic White   \n",
       "1      Master or PhD or professional degree          Non-Hispanic White   \n",
       "2              Associate or Bachelor degree          Non-Hispanic White   \n",
       "3     1 or more years of college, no degree          Non-Hispanic White   \n",
       "4              Associate or Bachelor degree          Non-Hispanic White   \n",
       "...                                     ...                         ...   \n",
       "4360           Associate or Bachelor degree          Non-Hispanic White   \n",
       "4361           Associate or Bachelor degree          Non-Hispanic White   \n",
       "4362           Associate or Bachelor degree          Non-Hispanic Black   \n",
       "4363  1 or more years of college, no degree          Non-Hispanic White   \n",
       "4364   Master or PhD or professional degree          Non-Hispanic White   \n",
       "\n",
       "      Immigrate-year                          Birthplace_recode  \\\n",
       "0                  0  U.S. state, territory, or outlying region   \n",
       "1                  0  U.S. state, territory, or outlying region   \n",
       "2                  0  U.S. state, territory, or outlying region   \n",
       "3                  0  U.S. state, territory, or outlying region   \n",
       "4                  0  U.S. state, territory, or outlying region   \n",
       "...              ...                                        ...   \n",
       "4360               0  U.S. state, territory, or outlying region   \n",
       "4361               0  U.S. state, territory, or outlying region   \n",
       "4362            2017                                     Africa   \n",
       "4363               0  U.S. state, territory, or outlying region   \n",
       "4364               0  U.S. state, territory, or outlying region   \n",
       "\n",
       "                Speaks_English Employment_status  Income-wages Region_recode  \\\n",
       "0     Yes, speaks only English          Employed         63000         South   \n",
       "1     Yes, speaks only English          Employed         46000         South   \n",
       "2     Yes, speaks only English          Employed         45000         South   \n",
       "3     Yes, speaks only English          Employed         55000         South   \n",
       "4     Yes, speaks only English          Employed         12000         South   \n",
       "...                        ...               ...           ...           ...   \n",
       "4360  Yes, speaks only English          Employed         40000       Midwest   \n",
       "4361  Yes, speaks only English          Employed         65000       Midwest   \n",
       "4362     Yes, speaks very well          Employed         45000       Midwest   \n",
       "4363  Yes, speaks only English          Employed           500       Midwest   \n",
       "4364  Yes, speaks only English          Employed        498000       Midwest   \n",
       "\n",
       "     Region-division_recode       Moved  Year         state  \n",
       "0        East South Central  Same house  2020     Tennessee  \n",
       "1        East South Central  Same house  2020     Tennessee  \n",
       "2        East South Central  Same house  2020     Tennessee  \n",
       "3        East South Central  Same house  2020     Tennessee  \n",
       "4        East South Central  Same house  2020     Tennessee  \n",
       "...                     ...         ...   ...           ...  \n",
       "4360     West North Central  Same house  2020  North Dakota  \n",
       "4361     West North Central  Same house  2020  North Dakota  \n",
       "4362     West North Central  Same house  2020  North Dakota  \n",
       "4363     West North Central  Same house  2020  North Dakota  \n",
       "4364     West North Central  Same house  2020  North Dakota  \n",
       "\n",
       "[4365 rows x 19 columns]"
      ]
     },
     "execution_count": 10,
     "metadata": {},
     "output_type": "execute_result"
    }
   ],
   "source": [
    "df=pd.read_excel('Wages 2020Census cleaned.xlsx')# import the data set,the visaulise the data by ploting\n",
    "df"
   ]
  },
  {
   "cell_type": "code",
   "execution_count": 11,
   "id": "761de937-fee1-4742-8de9-2ffa1df7959d",
   "metadata": {},
   "outputs": [
    {
     "name": "stderr",
     "output_type": "stream",
     "text": [
      "C:\\Users\\Admin\\AppData\\Local\\Programs\\Python\\Python311\\Lib\\site-packages\\seaborn\\_oldcore.py:1498: FutureWarning: is_categorical_dtype is deprecated and will be removed in a future version. Use isinstance(dtype, CategoricalDtype) instead\n",
      "  if pd.api.types.is_categorical_dtype(vector):\n",
      "C:\\Users\\Admin\\AppData\\Local\\Programs\\Python\\Python311\\Lib\\site-packages\\seaborn\\_oldcore.py:1119: FutureWarning: use_inf_as_na option is deprecated and will be removed in a future version. Convert inf values to NaN before operating instead.\n",
      "  with pd.option_context('mode.use_inf_as_na', True):\n"
     ]
    },
    {
     "data": {
      "image/png": "[encoded data removed]",
      "text/plain": [
       "<Figure size 800x600 with 1 Axes>"
      ]
     },
     "metadata": {},
     "output_type": "display_data"
    }
   ],
   "source": [
    "# visualisation of yearly income\n",
    "plt.figure(figsize=(8,6))\n",
    "sns.histplot(x='Income-wages',data =df)\n",
    "plt.title(\" A histogram between Income-wages' and Age\")\n",
    "plt.ylabel('Age')\n",
    "plt.xlabel('Income-wages')\n",
    "plt.show()                   # YES , through visualisation the early income reduces with increase of age"
   ]
  },
  {
   "cell_type": "code",
   "execution_count": 12,
   "id": "0c47fcba-68de-4ddc-bcee-e1b6eef9d669",
   "metadata": {},
   "outputs": [],
   "source": [
    "#question 1(c)"
   ]
  },
  {
   "cell_type": "code",
   "execution_count": 13,
   "id": "d6fb383f-b727-4d9e-90e9-7d3eb7b4ae4c",
   "metadata": {},
   "outputs": [
    {
     "name": "stdout",
     "output_type": "stream",
     "text": [
      "0\n",
      "0\n"
     ]
    }
   ],
   "source": [
    "std_dev = 0 # If there is no variability,the standard deviation and IQR is 0 because all the values  in the data set is equal or \n",
    "IQR = 0    #identical so there will be no mean and its square will be zero as well (got  idea from introduction to stastics and data analysis page 63-65)\n",
    "print(std_dev)\n",
    "\n",
    "print(IQR)"
   ]
  },
  {
   "cell_type": "code",
   "execution_count": 14,
   "id": "a0bca4a9-29f8-4d37-a8db-c1788513baa7",
   "metadata": {},
   "outputs": [],
   "source": [
    "#question1(d) if there is no variability in a data set all these discriptives below will have a single value that\n",
    "             #all data points have since they are equal"
   ]
  },
  {
   "cell_type": "code",
   "execution_count": 15,
   "id": "ef379393-e2f3-44e1-884c-33bfb9b94332",
   "metadata": {},
   "outputs": [
    {
     "name": "stdout",
     "output_type": "stream",
     "text": [
      "58704.16494845361\n",
      "41000.0\n",
      "22000.0\n",
      "71000.0\n",
      "30\n",
      "661000\n"
     ]
    }
   ],
   "source": [
    "mean = df['Income-wages'].mean()\n",
    "median = df['Income-wages'].median()\n",
    "minimum = df['Income-wages'].min()\n",
    "maximum = df['Income-wages'].max()\n",
    "Q1 = df['Income-wages'].quantile(0.25)\n",
    "Q3 = df['Income-wages'].quantile(0.75)\n",
    "print(mean) # if not print i would still call the variable for the output\n",
    "print(median)\n",
    "print(Q1)\n",
    "print(Q3)\n",
    "print(minimum)\n",
    "print(maximum)"
   ]
  },
  {
   "cell_type": "code",
   "execution_count": 16,
   "id": "c70030ff-5245-4a23-b4b3-863b374786f7",
   "metadata": {},
   "outputs": [],
   "source": [
    "#question1(e)"
   ]
  },
  {
   "cell_type": "code",
   "execution_count": 17,
   "id": "f95fdf64-7a35-4be2-ac3d-dc813e766cdb",
   "metadata": {},
   "outputs": [
    {
     "name": "stderr",
     "output_type": "stream",
     "text": [
      "C:\\Users\\Admin\\AppData\\Local\\Programs\\Python\\Python311\\Lib\\site-packages\\seaborn\\_oldcore.py:1498: FutureWarning: is_categorical_dtype is deprecated and will be removed in a future version. Use isinstance(dtype, CategoricalDtype) instead\n",
      "  if pd.api.types.is_categorical_dtype(vector):\n",
      "C:\\Users\\Admin\\AppData\\Local\\Programs\\Python\\Python311\\Lib\\site-packages\\seaborn\\_oldcore.py:1498: FutureWarning: is_categorical_dtype is deprecated and will be removed in a future version. Use isinstance(dtype, CategoricalDtype) instead\n",
      "  if pd.api.types.is_categorical_dtype(vector):\n",
      "C:\\Users\\Admin\\AppData\\Local\\Programs\\Python\\Python311\\Lib\\site-packages\\seaborn\\_oldcore.py:1498: FutureWarning: is_categorical_dtype is deprecated and will be removed in a future version. Use isinstance(dtype, CategoricalDtype) instead\n",
      "  if pd.api.types.is_categorical_dtype(vector):\n"
     ]
    },
    {
     "data": {
      "image/png": "[encoded data removed]",
      "text/plain": [
       "<Figure size 1000x600 with 1 Axes>"
      ]
     },
     "metadata": {},
     "output_type": "display_data"
    }
   ],
   "source": [
    "plt.figure(figsize=(10, 6)) #  a boxplot to visualize yearly income distribution based on education level\n",
    "sns.boxplot(data=df, x ='Education', y='Income-wages')\n",
    "plt.title('Income distribution by Education Level')\n",
    "plt.xticks(rotation=45)\n",
    "plt.show()"
   ]
  },
  {
   "cell_type": "code",
   "execution_count": 18,
   "id": "bb426fed-dc85-43bf-81c5-a1417fe51fa5",
   "metadata": {},
   "outputs": [
    {
     "name": "stdout",
     "output_type": "stream",
     "text": [
      "Income statistics by Education Level:\n",
      "                                        count           mean            std  \\\n",
      "Education                                                                     \n",
      "1 or more years of college, no degree   940.0   43912.872340   43801.946631   \n",
      "Associate or Bachelor degree           1521.0   66324.260355   68490.580580   \n",
      "HS diploma or GED                       990.0   39983.646465   39070.521919   \n",
      "Master or PhD or professional degree    613.0  106567.928222  108705.990391   \n",
      "Some schooling, no HS diploma           301.0   30486.478405   37496.119642   \n",
      "\n",
      "                                         min      25%      50%       75%  \\\n",
      "Education                                                                  \n",
      "1 or more years of college, no degree  180.0  17500.0  34400.0   58000.0   \n",
      "Associate or Bachelor degree           300.0  30000.0  50000.0   80000.0   \n",
      "HS diploma or GED                       30.0  18000.0  32000.0   50000.0   \n",
      "Master or PhD or professional degree   320.0  48000.0  76000.0  120000.0   \n",
      "Some schooling, no HS diploma          230.0  10000.0  24000.0   40000.0   \n",
      "\n",
      "                                            max  \n",
      "Education                                        \n",
      "1 or more years of college, no degree  475000.0  \n",
      "Associate or Bachelor degree           661000.0  \n",
      "HS diploma or GED                      565000.0  \n",
      "Master or PhD or professional degree   661000.0  \n",
      "Some schooling, no HS diploma          331000.0  \n",
      "                        count          mean           std     min      25%  \\\n",
      "Region-division_recode                                                       \n",
      "East North Central      667.0  50336.671664  51150.259626   200.0  18900.0   \n",
      "East South Central      228.0  46034.035088  47965.766862   960.0  18875.0   \n",
      "Middle Atlantic         552.0  72220.271739  97430.213061    30.0  26750.0   \n",
      "Mountain                371.0  54616.981132  62766.460811   400.0  21000.0   \n",
      "New England             191.0  72375.392670  66682.420722  3000.0  31100.0   \n",
      "Pacific                 655.0  71916.900763  86238.126017   230.0  25000.0   \n",
      "South Atlantic          870.0  53207.850575  54742.961690   260.0  20800.0   \n",
      "West North Central      300.0  50169.466667  48874.796629   500.0  23875.0   \n",
      "West South Central      531.0  56071.431262  61553.993778   330.0  22000.0   \n",
      "\n",
      "                            50%      75%       max  \n",
      "Region-division_recode                              \n",
      "East North Central      40000.0  65000.0  433000.0  \n",
      "East South Central      36200.0  55000.0  458000.0  \n",
      "Middle Atlantic         50000.0  83000.0  661000.0  \n",
      "Mountain                40000.0  68000.0  476000.0  \n",
      "New England             53000.0  90000.0  372000.0  \n",
      "Pacific                 48300.0  84000.0  565000.0  \n",
      "South Atlantic          40000.0  68000.0  475000.0  \n",
      "West North Central      40000.0  60250.0  498000.0  \n",
      "West South Central      39000.0  70500.0  472000.0  \n"
     ]
    }
   ],
   "source": [
    "education_income_stats = df.groupby('Education')['Income-wages'].describe()# group and analyse the dataset\n",
    "region_income_stats = df.groupby('Region-division_recode')['Income-wages'].describe()\n",
    "print(\"Income statistics by Education Level:\")\n",
    "print(education_income_stats)\n",
    "print(region_income_stats)"
   ]
  },
  {
   "cell_type": "markdown",
   "id": "ae011426-4eca-4923-bafd-3346b16b29d8",
   "metadata": {},
   "source": [
    "## Question number 2(a)"
   ]
  },
  {
   "cell_type": "code",
   "execution_count": 19,
   "id": "8ed65506-5c69-469e-8a1f-8aea87b66b99",
   "metadata": {},
   "outputs": [],
   "source": [
    "import numpy as np"
   ]
  },
  {
   "cell_type": "code",
   "execution_count": 20,
   "id": "1bb72349-a72a-4f90-9f1a-5d456b405294",
   "metadata": {},
   "outputs": [],
   "source": [
    "import pandas as pd"
   ]
  },
  {
   "cell_type": "code",
   "execution_count": 21,
   "id": "338ff8aa-5dfa-4f00-b3c0-0f0f55a61765",
   "metadata": {},
   "outputs": [],
   "source": [
    "import matplotlib.pyplot as plt"
   ]
  },
  {
   "cell_type": "code",
   "execution_count": 22,
   "id": "41892b4f-4c3e-4c79-9906-86add5b53cbd",
   "metadata": {},
   "outputs": [],
   "source": [
    "import  seaborn as sns"
   ]
  },
  {
   "cell_type": "code",
   "execution_count": 23,
   "id": "92bda8fe-2232-4315-8c21-4643d1a31200",
   "metadata": {},
   "outputs": [
    {
     "data": {
      "text/html": [
       "<div>\n",
       "<style scoped>\n",
       "    .dataframe tbody tr th:only-of-type {\n",
       "        vertical-align: middle;\n",
       "    }\n",
       "\n",
       "    .dataframe tbody tr th {\n",
       "        vertical-align: top;\n",
       "    }\n",
       "\n",
       "    .dataframe thead th {\n",
       "        text-align: right;\n",
       "    }\n",
       "</style>\n",
       "<table border=\"1\" class=\"dataframe\">\n",
       "  <thead>\n",
       "    <tr style=\"text-align: right;\">\n",
       "      <th></th>\n",
       "      <th>StudentID</th>\n",
       "      <th>Gender</th>\n",
       "      <th>Age</th>\n",
       "      <th>StudyHoursPerWeek</th>\n",
       "      <th>AttendanceRate</th>\n",
       "      <th>GPA</th>\n",
       "      <th>Major</th>\n",
       "      <th>PartTimeJob</th>\n",
       "      <th>ExtraCurricularActivities</th>\n",
       "    </tr>\n",
       "  </thead>\n",
       "  <tbody>\n",
       "    <tr>\n",
       "      <th>0</th>\n",
       "      <td>1</td>\n",
       "      <td>Male</td>\n",
       "      <td>24</td>\n",
       "      <td>37</td>\n",
       "      <td>90.75</td>\n",
       "      <td>3.47</td>\n",
       "      <td>Arts</td>\n",
       "      <td>Yes</td>\n",
       "      <td>No</td>\n",
       "    </tr>\n",
       "    <tr>\n",
       "      <th>1</th>\n",
       "      <td>2</td>\n",
       "      <td>Female</td>\n",
       "      <td>22</td>\n",
       "      <td>37</td>\n",
       "      <td>74.90</td>\n",
       "      <td>2.32</td>\n",
       "      <td>Education</td>\n",
       "      <td>No</td>\n",
       "      <td>No</td>\n",
       "    </tr>\n",
       "    <tr>\n",
       "      <th>2</th>\n",
       "      <td>3</td>\n",
       "      <td>Male</td>\n",
       "      <td>22</td>\n",
       "      <td>10</td>\n",
       "      <td>53.36</td>\n",
       "      <td>2.38</td>\n",
       "      <td>Business</td>\n",
       "      <td>No</td>\n",
       "      <td>No</td>\n",
       "    </tr>\n",
       "    <tr>\n",
       "      <th>3</th>\n",
       "      <td>4</td>\n",
       "      <td>Male</td>\n",
       "      <td>24</td>\n",
       "      <td>10</td>\n",
       "      <td>70.26</td>\n",
       "      <td>3.46</td>\n",
       "      <td>Science</td>\n",
       "      <td>Yes</td>\n",
       "      <td>No</td>\n",
       "    </tr>\n",
       "    <tr>\n",
       "      <th>4</th>\n",
       "      <td>5</td>\n",
       "      <td>Male</td>\n",
       "      <td>18</td>\n",
       "      <td>19</td>\n",
       "      <td>74.87</td>\n",
       "      <td>2.31</td>\n",
       "      <td>Education</td>\n",
       "      <td>Yes</td>\n",
       "      <td>No</td>\n",
       "    </tr>\n",
       "    <tr>\n",
       "      <th>...</th>\n",
       "      <td>...</td>\n",
       "      <td>...</td>\n",
       "      <td>...</td>\n",
       "      <td>...</td>\n",
       "      <td>...</td>\n",
       "      <td>...</td>\n",
       "      <td>...</td>\n",
       "      <td>...</td>\n",
       "      <td>...</td>\n",
       "    </tr>\n",
       "    <tr>\n",
       "      <th>495</th>\n",
       "      <td>496</td>\n",
       "      <td>Male</td>\n",
       "      <td>22</td>\n",
       "      <td>37</td>\n",
       "      <td>76.61</td>\n",
       "      <td>2.97</td>\n",
       "      <td>Science</td>\n",
       "      <td>No</td>\n",
       "      <td>No</td>\n",
       "    </tr>\n",
       "    <tr>\n",
       "      <th>496</th>\n",
       "      <td>497</td>\n",
       "      <td>Male</td>\n",
       "      <td>23</td>\n",
       "      <td>11</td>\n",
       "      <td>56.29</td>\n",
       "      <td>3.20</td>\n",
       "      <td>Science</td>\n",
       "      <td>No</td>\n",
       "      <td>No</td>\n",
       "    </tr>\n",
       "    <tr>\n",
       "      <th>497</th>\n",
       "      <td>498</td>\n",
       "      <td>Female</td>\n",
       "      <td>20</td>\n",
       "      <td>6</td>\n",
       "      <td>56.64</td>\n",
       "      <td>3.20</td>\n",
       "      <td>Science</td>\n",
       "      <td>No</td>\n",
       "      <td>Yes</td>\n",
       "    </tr>\n",
       "    <tr>\n",
       "      <th>498</th>\n",
       "      <td>499</td>\n",
       "      <td>Male</td>\n",
       "      <td>22</td>\n",
       "      <td>18</td>\n",
       "      <td>57.18</td>\n",
       "      <td>2.05</td>\n",
       "      <td>Business</td>\n",
       "      <td>No</td>\n",
       "      <td>Yes</td>\n",
       "    </tr>\n",
       "    <tr>\n",
       "      <th>499</th>\n",
       "      <td>500</td>\n",
       "      <td>Female</td>\n",
       "      <td>24</td>\n",
       "      <td>21</td>\n",
       "      <td>96.99</td>\n",
       "      <td>2.64</td>\n",
       "      <td>Engineering</td>\n",
       "      <td>No</td>\n",
       "      <td>No</td>\n",
       "    </tr>\n",
       "  </tbody>\n",
       "</table>\n",
       "<p>500 rows × 9 columns</p>\n",
       "</div>"
      ],
      "text/plain": [
       "     StudentID  Gender  Age  StudyHoursPerWeek  AttendanceRate   GPA  \\\n",
       "0            1    Male   24                 37           90.75  3.47   \n",
       "1            2  Female   22                 37           74.90  2.32   \n",
       "2            3    Male   22                 10           53.36  2.38   \n",
       "3            4    Male   24                 10           70.26  3.46   \n",
       "4            5    Male   18                 19           74.87  2.31   \n",
       "..         ...     ...  ...                ...             ...   ...   \n",
       "495        496    Male   22                 37           76.61  2.97   \n",
       "496        497    Male   23                 11           56.29  3.20   \n",
       "497        498  Female   20                  6           56.64  3.20   \n",
       "498        499    Male   22                 18           57.18  2.05   \n",
       "499        500  Female   24                 21           96.99  2.64   \n",
       "\n",
       "           Major PartTimeJob ExtraCurricularActivities  \n",
       "0           Arts         Yes                        No  \n",
       "1      Education          No                        No  \n",
       "2       Business          No                        No  \n",
       "3        Science         Yes                        No  \n",
       "4      Education         Yes                        No  \n",
       "..           ...         ...                       ...  \n",
       "495      Science          No                        No  \n",
       "496      Science          No                        No  \n",
       "497      Science          No                       Yes  \n",
       "498     Business          No                       Yes  \n",
       "499  Engineering          No                        No  \n",
       "\n",
       "[500 rows x 9 columns]"
      ]
     },
     "execution_count": 23,
     "metadata": {},
     "output_type": "execute_result"
    }
   ],
   "source": [
    "df=pd.read_csv('student_performance_data.csv')# first of all i import the data set\n",
    "df"
   ]
  },
  {
   "cell_type": "code",
   "execution_count": 24,
   "id": "bf6c5f9f-fcd1-4ffd-af48-6f7bd3b7d9c9",
   "metadata": {},
   "outputs": [
    {
     "data": {
      "text/html": [
       "<div>\n",
       "<style scoped>\n",
       "    .dataframe tbody tr th:only-of-type {\n",
       "        vertical-align: middle;\n",
       "    }\n",
       "\n",
       "    .dataframe tbody tr th {\n",
       "        vertical-align: top;\n",
       "    }\n",
       "\n",
       "    .dataframe thead th {\n",
       "        text-align: right;\n",
       "    }\n",
       "</style>\n",
       "<table border=\"1\" class=\"dataframe\">\n",
       "  <thead>\n",
       "    <tr style=\"text-align: right;\">\n",
       "      <th></th>\n",
       "      <th>Gender</th>\n",
       "      <th>Major</th>\n",
       "      <th>StudyHoursPerWeek</th>\n",
       "    </tr>\n",
       "  </thead>\n",
       "  <tbody>\n",
       "    <tr>\n",
       "      <th>0</th>\n",
       "      <td>Female</td>\n",
       "      <td>Arts</td>\n",
       "      <td>1070</td>\n",
       "    </tr>\n",
       "    <tr>\n",
       "      <th>1</th>\n",
       "      <td>Female</td>\n",
       "      <td>Business</td>\n",
       "      <td>1229</td>\n",
       "    </tr>\n",
       "    <tr>\n",
       "      <th>2</th>\n",
       "      <td>Female</td>\n",
       "      <td>Education</td>\n",
       "      <td>818</td>\n",
       "    </tr>\n",
       "    <tr>\n",
       "      <th>3</th>\n",
       "      <td>Female</td>\n",
       "      <td>Engineering</td>\n",
       "      <td>1196</td>\n",
       "    </tr>\n",
       "    <tr>\n",
       "      <th>4</th>\n",
       "      <td>Female</td>\n",
       "      <td>Science</td>\n",
       "      <td>813</td>\n",
       "    </tr>\n",
       "    <tr>\n",
       "      <th>5</th>\n",
       "      <td>Male</td>\n",
       "      <td>Arts</td>\n",
       "      <td>881</td>\n",
       "    </tr>\n",
       "    <tr>\n",
       "      <th>6</th>\n",
       "      <td>Male</td>\n",
       "      <td>Business</td>\n",
       "      <td>1130</td>\n",
       "    </tr>\n",
       "    <tr>\n",
       "      <th>7</th>\n",
       "      <td>Male</td>\n",
       "      <td>Education</td>\n",
       "      <td>1212</td>\n",
       "    </tr>\n",
       "    <tr>\n",
       "      <th>8</th>\n",
       "      <td>Male</td>\n",
       "      <td>Engineering</td>\n",
       "      <td>929</td>\n",
       "    </tr>\n",
       "    <tr>\n",
       "      <th>9</th>\n",
       "      <td>Male</td>\n",
       "      <td>Science</td>\n",
       "      <td>660</td>\n",
       "    </tr>\n",
       "  </tbody>\n",
       "</table>\n",
       "</div>"
      ],
      "text/plain": [
       "   Gender        Major  StudyHoursPerWeek\n",
       "0  Female         Arts               1070\n",
       "1  Female     Business               1229\n",
       "2  Female    Education                818\n",
       "3  Female  Engineering               1196\n",
       "4  Female      Science                813\n",
       "5    Male         Arts                881\n",
       "6    Male     Business               1130\n",
       "7    Male    Education               1212\n",
       "8    Male  Engineering                929\n",
       "9    Male      Science                660"
      ]
     },
     "execution_count": 24,
     "metadata": {},
     "output_type": "execute_result"
    }
   ],
   "source": [
    "group_major=df.groupby(['Gender','Major'])['StudyHoursPerWeek'].sum().reset_index()\n",
    "group_major"
   ]
  },
  {
   "cell_type": "code",
   "execution_count": 25,
   "id": "230b9fcf-8289-46ed-89ea-97d40551f5bc",
   "metadata": {},
   "outputs": [],
   "source": [
    "#question2b"
   ]
  },
  {
   "cell_type": "code",
   "execution_count": 26,
   "id": "8d1c9648-76fa-4a06-b805-b37d0bf81473",
   "metadata": {},
   "outputs": [
    {
     "data": {
      "text/html": [
       "<div>\n",
       "<style scoped>\n",
       "    .dataframe tbody tr th:only-of-type {\n",
       "        vertical-align: middle;\n",
       "    }\n",
       "\n",
       "    .dataframe tbody tr th {\n",
       "        vertical-align: top;\n",
       "    }\n",
       "\n",
       "    .dataframe thead th {\n",
       "        text-align: right;\n",
       "    }\n",
       "</style>\n",
       "<table border=\"1\" class=\"dataframe\">\n",
       "  <thead>\n",
       "    <tr style=\"text-align: right;\">\n",
       "      <th></th>\n",
       "      <th>Gender</th>\n",
       "      <th>AttendanceRate</th>\n",
       "    </tr>\n",
       "  </thead>\n",
       "  <tbody>\n",
       "    <tr>\n",
       "      <th>0</th>\n",
       "      <td>Female</td>\n",
       "      <td>19436.99</td>\n",
       "    </tr>\n",
       "    <tr>\n",
       "      <th>1</th>\n",
       "      <td>Male</td>\n",
       "      <td>18058.20</td>\n",
       "    </tr>\n",
       "  </tbody>\n",
       "</table>\n",
       "</div>"
      ],
      "text/plain": [
       "   Gender  AttendanceRate\n",
       "0  Female        19436.99\n",
       "1    Male        18058.20"
      ]
     },
     "execution_count": 26,
     "metadata": {},
     "output_type": "execute_result"
    }
   ],
   "source": [
    "group_gender=df.groupby(['Gender'])['AttendanceRate'].sum().reset_index()\n",
    "group_gender"
   ]
  },
  {
   "cell_type": "code",
   "execution_count": 27,
   "id": "a3875bd1-04a1-4b7b-8f19-1917a61f66f8",
   "metadata": {},
   "outputs": [],
   "source": [
    "# question 2c"
   ]
  },
  {
   "cell_type": "code",
   "execution_count": 28,
   "id": "fac8cb88-42e1-460f-9c9b-8d2c64ec680c",
   "metadata": {},
   "outputs": [
    {
     "data": {
      "text/html": [
       "<div>\n",
       "<style scoped>\n",
       "    .dataframe tbody tr th:only-of-type {\n",
       "        vertical-align: middle;\n",
       "    }\n",
       "\n",
       "    .dataframe tbody tr th {\n",
       "        vertical-align: top;\n",
       "    }\n",
       "\n",
       "    .dataframe thead th {\n",
       "        text-align: right;\n",
       "    }\n",
       "</style>\n",
       "<table border=\"1\" class=\"dataframe\">\n",
       "  <thead>\n",
       "    <tr style=\"text-align: right;\">\n",
       "      <th></th>\n",
       "      <th>PartTimeJob</th>\n",
       "      <th>StudentID</th>\n",
       "      <th>Gender</th>\n",
       "      <th>Age</th>\n",
       "      <th>StudyHoursPerWeek</th>\n",
       "      <th>AttendanceRate</th>\n",
       "      <th>GPA</th>\n",
       "      <th>Major</th>\n",
       "      <th>ExtraCurricularActivities</th>\n",
       "    </tr>\n",
       "  </thead>\n",
       "  <tbody>\n",
       "    <tr>\n",
       "      <th>0</th>\n",
       "      <td>No</td>\n",
       "      <td>58624</td>\n",
       "      <td>FemaleMaleMaleMaleMaleMaleMaleFemaleMaleFemale...</td>\n",
       "      <td>4876</td>\n",
       "      <td>4642</td>\n",
       "      <td>17492.96</td>\n",
       "      <td>686.88</td>\n",
       "      <td>EducationBusinessArtsEducationBusinessScienceB...</td>\n",
       "      <td>NoNoNoNoNoYesNoYesNoYesNoNoNoYesYesYesYesNoNoN...</td>\n",
       "    </tr>\n",
       "    <tr>\n",
       "      <th>1</th>\n",
       "      <td>Yes</td>\n",
       "      <td>66626</td>\n",
       "      <td>MaleMaleMaleFemaleFemaleMaleMaleFemaleMaleFema...</td>\n",
       "      <td>5602</td>\n",
       "      <td>5296</td>\n",
       "      <td>20002.23</td>\n",
       "      <td>805.70</td>\n",
       "      <td>ArtsScienceEducationBusinessEngineeringEnginee...</td>\n",
       "      <td>NoNoNoNoYesNoNoYesNoYesYesNoNoYesNoNoYesYesNoY...</td>\n",
       "    </tr>\n",
       "  </tbody>\n",
       "</table>\n",
       "</div>"
      ],
      "text/plain": [
       "  PartTimeJob  StudentID                                             Gender  \\\n",
       "0          No      58624  FemaleMaleMaleMaleMaleMaleMaleFemaleMaleFemale...   \n",
       "1         Yes      66626  MaleMaleMaleFemaleFemaleMaleMaleFemaleMaleFema...   \n",
       "\n",
       "    Age  StudyHoursPerWeek  AttendanceRate     GPA  \\\n",
       "0  4876               4642        17492.96  686.88   \n",
       "1  5602               5296        20002.23  805.70   \n",
       "\n",
       "                                               Major  \\\n",
       "0  EducationBusinessArtsEducationBusinessScienceB...   \n",
       "1  ArtsScienceEducationBusinessEngineeringEnginee...   \n",
       "\n",
       "                           ExtraCurricularActivities  \n",
       "0  NoNoNoNoNoYesNoYesNoYesNoNoNoYesYesYesYesNoNoN...  \n",
       "1  NoNoNoNoYesNoNoYesNoYesYesNoNoYesNoNoYesYesNoY...  "
      ]
     },
     "execution_count": 28,
     "metadata": {},
     "output_type": "execute_result"
    }
   ],
   "source": [
    "group=df.groupby(['PartTimeJob']).sum().reset_index()\n",
    "group"
   ]
  },
  {
   "cell_type": "code",
   "execution_count": 29,
   "id": "46c3d506-96f7-4325-b222-b2dd692814f3",
   "metadata": {},
   "outputs": [],
   "source": [
    "#question2d"
   ]
  },
  {
   "cell_type": "code",
   "execution_count": 30,
   "id": "94470538-1207-4c58-a79d-a0d1a3c1dd92",
   "metadata": {},
   "outputs": [
    {
     "data": {
      "text/plain": [
       "20.956"
      ]
     },
     "execution_count": 30,
     "metadata": {},
     "output_type": "execute_result"
    }
   ],
   "source": [
    "mean=df['Age'].mean()\n",
    "mean"
   ]
  },
  {
   "cell_type": "code",
   "execution_count": 31,
   "id": "73d83c05-aa0c-4694-bc4d-091ae8742ce4",
   "metadata": {},
   "outputs": [
    {
     "data": {
      "text/plain": [
       "4.002068136272546"
      ]
     },
     "execution_count": 31,
     "metadata": {},
     "output_type": "execute_result"
    }
   ],
   "source": [
    "variance=df['Age'].var()\n",
    "variance"
   ]
  },
  {
   "cell_type": "code",
   "execution_count": 32,
   "id": "458e158b-2878-4be9-9dcf-438e0763aa0a",
   "metadata": {},
   "outputs": [],
   "source": [
    "#question2e"
   ]
  },
  {
   "cell_type": "code",
   "execution_count": 33,
   "id": "11bcd30f-de95-4421-8438-f64e60919515",
   "metadata": {},
   "outputs": [],
   "source": [
    "import matplotlib.pyplot as plt"
   ]
  },
  {
   "cell_type": "code",
   "execution_count": 34,
   "id": "21efb68c-09fb-4ddb-9476-2f5bae53bf32",
   "metadata": {},
   "outputs": [
    {
     "name": "stderr",
     "output_type": "stream",
     "text": [
      "C:\\Users\\Admin\\AppData\\Local\\Programs\\Python\\Python311\\Lib\\site-packages\\seaborn\\_oldcore.py:1498: FutureWarning: is_categorical_dtype is deprecated and will be removed in a future version. Use isinstance(dtype, CategoricalDtype) instead\n",
      "  if pd.api.types.is_categorical_dtype(vector):\n",
      "C:\\Users\\Admin\\AppData\\Local\\Programs\\Python\\Python311\\Lib\\site-packages\\seaborn\\_oldcore.py:1498: FutureWarning: is_categorical_dtype is deprecated and will be removed in a future version. Use isinstance(dtype, CategoricalDtype) instead\n",
      "  if pd.api.types.is_categorical_dtype(vector):\n",
      "No artists with labels found to put in legend.  Note that artists whose label start with an underscore are ignored when legend() is called with no argument.\n"
     ]
    },
    {
     "data": {
      "image/png": "[encoded data removed]",
      "text/plain": [
       "<Figure size 800x1000 with 1 Axes>"
      ]
     },
     "metadata": {},
     "output_type": "display_data"
    }
   ],
   "source": [
    "plt.figure(figsize=(8,10))\n",
    "plt.title('Visualisation of a relationship beteen Age and GPA')\n",
    "sns.scatterplot(x=\"GPA\", y=\"Age\",data=df,color='green')\n",
    "plt.xlabel(\"GPA'\")\n",
    "plt.ylabel('Age')\n",
    "plt.legend()\n",
    "plt.show()\n"
   ]
  },
  {
   "cell_type": "markdown",
   "id": "8f90a6e4-44f7-4911-8277-0aea9d63184b",
   "metadata": {},
   "source": [
    "## Question number 3"
   ]
  },
  {
   "cell_type": "code",
   "execution_count": 35,
   "id": "95e0dae5-d675-4907-ab4b-331497afa7ce",
   "metadata": {},
   "outputs": [],
   "source": [
    "# (from class lessons last lecture and 06 univariate_linear_regression note book)\n",
    "# collect data,\n",
    "#preprocess or clean data forexample reshaping with two variables e.g (x,y)\n",
    "#explore the data by analysing the variables and their relationship though visualisation\n",
    "#divide the data into training and testing\n",
    "#train the model by giving it the known data\n",
    "#test the model with new related data"
   ]
  },
  {
   "cell_type": "markdown",
   "id": "a5c6f956-aabc-437f-9c23-da34a82e0443",
   "metadata": {},
   "source": [
    "## no3b"
   ]
  },
  {
   "cell_type": "code",
   "execution_count": 36,
   "id": "d83a1043-e59a-4bb8-a02e-3466db691949",
   "metadata": {},
   "outputs": [],
   "source": [
    "# y=b0tb1x+error"
   ]
  },
  {
   "cell_type": "code",
   "execution_count": 37,
   "id": "c335b994-6ef6-4b02-b2da-cc5018c17771",
   "metadata": {},
   "outputs": [],
   "source": [
    "#Linearity;this assumes that dependent variable(y) and independence variable(x)should be linear\n",
    "#that means a change in y leads to equal change in x"
   ]
  },
  {
   "cell_type": "code",
   "execution_count": 38,
   "id": "db770358-3c65-40aa-9bf8-4a929ee4bbe2",
   "metadata": {},
   "outputs": [],
   "source": [
    "#normality;it assumes that when visualised data should be normally distribute eg being bell shaped \n",
    "#in addition to that outiers must be eliminated"
   ]
  },
  {
   "cell_type": "code",
   "execution_count": 39,
   "id": "f7f28673-c484-4a6e-90fe-fce6d6feb1cf",
   "metadata": {},
   "outputs": [],
   "source": [
    "#independence; it assumes that observation should be independent of the other eg data points should not paired"
   ]
  },
  {
   "cell_type": "markdown",
   "id": "afbd7e91-b720-4b31-9363-618fe98252e9",
   "metadata": {},
   "source": [
    "## No3c"
   ]
  },
  {
   "cell_type": "code",
   "execution_count": 40,
   "id": "869ed535-cccd-4e86-9d1d-0c882bf34a30",
   "metadata": {},
   "outputs": [],
   "source": [
    "import pandas as pd\n",
    "from sklearn.linear_model import LinearRegression\n",
    "from sklearn.metrics import mean_absolute_error"
   ]
  },
  {
   "cell_type": "code",
   "execution_count": 41,
   "id": "20ef1e74-a02a-4a51-9c4e-61b4d13690d9",
   "metadata": {},
   "outputs": [
    {
     "data": {
      "text/html": [
       "<div>\n",
       "<style scoped>\n",
       "    .dataframe tbody tr th:only-of-type {\n",
       "        vertical-align: middle;\n",
       "    }\n",
       "\n",
       "    .dataframe tbody tr th {\n",
       "        vertical-align: top;\n",
       "    }\n",
       "\n",
       "    .dataframe thead th {\n",
       "        text-align: right;\n",
       "    }\n",
       "</style>\n",
       "<table border=\"1\" class=\"dataframe\">\n",
       "  <thead>\n",
       "    <tr style=\"text-align: right;\">\n",
       "      <th></th>\n",
       "      <th>Age</th>\n",
       "      <th>Sex</th>\n",
       "      <th>Marital_status</th>\n",
       "      <th>Number_of_children</th>\n",
       "      <th>Family_size</th>\n",
       "      <th>Education-degree_recode</th>\n",
       "      <th>Education-degree_recode 2</th>\n",
       "      <th>Education</th>\n",
       "      <th>Race_ethnicity-multi_recode</th>\n",
       "      <th>Immigrate-year</th>\n",
       "      <th>Birthplace_recode</th>\n",
       "      <th>Speaks_English</th>\n",
       "      <th>Employment_status</th>\n",
       "      <th>Income-wages</th>\n",
       "      <th>Region_recode</th>\n",
       "      <th>Region-division_recode</th>\n",
       "      <th>Moved</th>\n",
       "      <th>Year</th>\n",
       "      <th>state</th>\n",
       "    </tr>\n",
       "  </thead>\n",
       "  <tbody>\n",
       "    <tr>\n",
       "      <th>0</th>\n",
       "      <td>30</td>\n",
       "      <td>Male</td>\n",
       "      <td>Married, spouse present</td>\n",
       "      <td>2</td>\n",
       "      <td>4</td>\n",
       "      <td>Masterâ€™s or professional degree</td>\n",
       "      <td>Master or professional degree</td>\n",
       "      <td>Master or PhD or professional degree</td>\n",
       "      <td>Non-Hispanic White</td>\n",
       "      <td>0</td>\n",
       "      <td>U.S. state, territory, or outlying region</td>\n",
       "      <td>Yes, speaks only English</td>\n",
       "      <td>Employed</td>\n",
       "      <td>63000</td>\n",
       "      <td>South</td>\n",
       "      <td>East South Central</td>\n",
       "      <td>Same house</td>\n",
       "      <td>2020</td>\n",
       "      <td>Tennessee</td>\n",
       "    </tr>\n",
       "    <tr>\n",
       "      <th>1</th>\n",
       "      <td>28</td>\n",
       "      <td>Female</td>\n",
       "      <td>Married, spouse present</td>\n",
       "      <td>1 child present</td>\n",
       "      <td>3</td>\n",
       "      <td>Masterâ€™s or professional degree</td>\n",
       "      <td>Master or professional degree</td>\n",
       "      <td>Master or PhD or professional degree</td>\n",
       "      <td>Non-Hispanic White</td>\n",
       "      <td>0</td>\n",
       "      <td>U.S. state, territory, or outlying region</td>\n",
       "      <td>Yes, speaks only English</td>\n",
       "      <td>Employed</td>\n",
       "      <td>46000</td>\n",
       "      <td>South</td>\n",
       "      <td>East South Central</td>\n",
       "      <td>Same house</td>\n",
       "      <td>2020</td>\n",
       "      <td>Tennessee</td>\n",
       "    </tr>\n",
       "    <tr>\n",
       "      <th>2</th>\n",
       "      <td>34</td>\n",
       "      <td>Male</td>\n",
       "      <td>Married, spouse present</td>\n",
       "      <td>1 child present</td>\n",
       "      <td>3</td>\n",
       "      <td>Bachelorâ€™s degree</td>\n",
       "      <td>Bachelor degree</td>\n",
       "      <td>Associate or Bachelor degree</td>\n",
       "      <td>Non-Hispanic White</td>\n",
       "      <td>0</td>\n",
       "      <td>U.S. state, territory, or outlying region</td>\n",
       "      <td>Yes, speaks only English</td>\n",
       "      <td>Employed</td>\n",
       "      <td>45000</td>\n",
       "      <td>South</td>\n",
       "      <td>East South Central</td>\n",
       "      <td>Same house</td>\n",
       "      <td>2020</td>\n",
       "      <td>Tennessee</td>\n",
       "    </tr>\n",
       "    <tr>\n",
       "      <th>3</th>\n",
       "      <td>58</td>\n",
       "      <td>Female</td>\n",
       "      <td>Married, spouse absent</td>\n",
       "      <td>1 child present</td>\n",
       "      <td>2</td>\n",
       "      <td>1 or more years of college, no degree</td>\n",
       "      <td>1 or more years of college, no degree</td>\n",
       "      <td>1 or more years of college, no degree</td>\n",
       "      <td>Non-Hispanic White</td>\n",
       "      <td>0</td>\n",
       "      <td>U.S. state, territory, or outlying region</td>\n",
       "      <td>Yes, speaks only English</td>\n",
       "      <td>Employed</td>\n",
       "      <td>55000</td>\n",
       "      <td>South</td>\n",
       "      <td>East South Central</td>\n",
       "      <td>Same house</td>\n",
       "      <td>2020</td>\n",
       "      <td>Tennessee</td>\n",
       "    </tr>\n",
       "    <tr>\n",
       "      <th>4</th>\n",
       "      <td>39</td>\n",
       "      <td>Male</td>\n",
       "      <td>Never married/single</td>\n",
       "      <td>0 children present</td>\n",
       "      <td>1</td>\n",
       "      <td>Bachelorâ€™s degree</td>\n",
       "      <td>Bachelor degree</td>\n",
       "      <td>Associate or Bachelor degree</td>\n",
       "      <td>Non-Hispanic White</td>\n",
       "      <td>0</td>\n",
       "      <td>U.S. state, territory, or outlying region</td>\n",
       "      <td>Yes, speaks only English</td>\n",
       "      <td>Employed</td>\n",
       "      <td>12000</td>\n",
       "      <td>South</td>\n",
       "      <td>East South Central</td>\n",
       "      <td>Same house</td>\n",
       "      <td>2020</td>\n",
       "      <td>Tennessee</td>\n",
       "    </tr>\n",
       "    <tr>\n",
       "      <th>...</th>\n",
       "      <td>...</td>\n",
       "      <td>...</td>\n",
       "      <td>...</td>\n",
       "      <td>...</td>\n",
       "      <td>...</td>\n",
       "      <td>...</td>\n",
       "      <td>...</td>\n",
       "      <td>...</td>\n",
       "      <td>...</td>\n",
       "      <td>...</td>\n",
       "      <td>...</td>\n",
       "      <td>...</td>\n",
       "      <td>...</td>\n",
       "      <td>...</td>\n",
       "      <td>...</td>\n",
       "      <td>...</td>\n",
       "      <td>...</td>\n",
       "      <td>...</td>\n",
       "      <td>...</td>\n",
       "    </tr>\n",
       "    <tr>\n",
       "      <th>4360</th>\n",
       "      <td>67</td>\n",
       "      <td>Male</td>\n",
       "      <td>Married, spouse present</td>\n",
       "      <td>0 children present</td>\n",
       "      <td>2</td>\n",
       "      <td>Bachelorâ€™s degree</td>\n",
       "      <td>Bachelor degree</td>\n",
       "      <td>Associate or Bachelor degree</td>\n",
       "      <td>Non-Hispanic White</td>\n",
       "      <td>0</td>\n",
       "      <td>U.S. state, territory, or outlying region</td>\n",
       "      <td>Yes, speaks only English</td>\n",
       "      <td>Employed</td>\n",
       "      <td>40000</td>\n",
       "      <td>Midwest</td>\n",
       "      <td>West North Central</td>\n",
       "      <td>Same house</td>\n",
       "      <td>2020</td>\n",
       "      <td>North Dakota</td>\n",
       "    </tr>\n",
       "    <tr>\n",
       "      <th>4361</th>\n",
       "      <td>48</td>\n",
       "      <td>Male</td>\n",
       "      <td>Married, spouse present</td>\n",
       "      <td>4</td>\n",
       "      <td>6</td>\n",
       "      <td>Associateâ€™s degree</td>\n",
       "      <td>Associate degree</td>\n",
       "      <td>Associate or Bachelor degree</td>\n",
       "      <td>Non-Hispanic White</td>\n",
       "      <td>0</td>\n",
       "      <td>U.S. state, territory, or outlying region</td>\n",
       "      <td>Yes, speaks only English</td>\n",
       "      <td>Employed</td>\n",
       "      <td>65000</td>\n",
       "      <td>Midwest</td>\n",
       "      <td>West North Central</td>\n",
       "      <td>Same house</td>\n",
       "      <td>2020</td>\n",
       "      <td>North Dakota</td>\n",
       "    </tr>\n",
       "    <tr>\n",
       "      <th>4362</th>\n",
       "      <td>33</td>\n",
       "      <td>Male</td>\n",
       "      <td>Married, spouse absent</td>\n",
       "      <td>0 children present</td>\n",
       "      <td>1</td>\n",
       "      <td>Associateâ€™s degree</td>\n",
       "      <td>Associate degree</td>\n",
       "      <td>Associate or Bachelor degree</td>\n",
       "      <td>Non-Hispanic Black</td>\n",
       "      <td>2017</td>\n",
       "      <td>Africa</td>\n",
       "      <td>Yes, speaks very well</td>\n",
       "      <td>Employed</td>\n",
       "      <td>45000</td>\n",
       "      <td>Midwest</td>\n",
       "      <td>West North Central</td>\n",
       "      <td>Same house</td>\n",
       "      <td>2020</td>\n",
       "      <td>North Dakota</td>\n",
       "    </tr>\n",
       "    <tr>\n",
       "      <th>4363</th>\n",
       "      <td>22</td>\n",
       "      <td>Female</td>\n",
       "      <td>Never married/single</td>\n",
       "      <td>0 children present</td>\n",
       "      <td>2</td>\n",
       "      <td>1 or more years of college, no degree</td>\n",
       "      <td>1 or more years of college, no degree</td>\n",
       "      <td>1 or more years of college, no degree</td>\n",
       "      <td>Non-Hispanic White</td>\n",
       "      <td>0</td>\n",
       "      <td>U.S. state, territory, or outlying region</td>\n",
       "      <td>Yes, speaks only English</td>\n",
       "      <td>Employed</td>\n",
       "      <td>500</td>\n",
       "      <td>Midwest</td>\n",
       "      <td>West North Central</td>\n",
       "      <td>Same house</td>\n",
       "      <td>2020</td>\n",
       "      <td>North Dakota</td>\n",
       "    </tr>\n",
       "    <tr>\n",
       "      <th>4364</th>\n",
       "      <td>49</td>\n",
       "      <td>Female</td>\n",
       "      <td>Married, spouse present</td>\n",
       "      <td>2</td>\n",
       "      <td>4</td>\n",
       "      <td>Masterâ€™s or professional degree</td>\n",
       "      <td>Master or professional degree</td>\n",
       "      <td>Master or PhD or professional degree</td>\n",
       "      <td>Non-Hispanic White</td>\n",
       "      <td>0</td>\n",
       "      <td>U.S. state, territory, or outlying region</td>\n",
       "      <td>Yes, speaks only English</td>\n",
       "      <td>Employed</td>\n",
       "      <td>498000</td>\n",
       "      <td>Midwest</td>\n",
       "      <td>West North Central</td>\n",
       "      <td>Same house</td>\n",
       "      <td>2020</td>\n",
       "      <td>North Dakota</td>\n",
       "    </tr>\n",
       "  </tbody>\n",
       "</table>\n",
       "<p>4365 rows × 19 columns</p>\n",
       "</div>"
      ],
      "text/plain": [
       "      Age     Sex           Marital_status  Number_of_children  Family_size  \\\n",
       "0      30    Male  Married, spouse present                   2            4   \n",
       "1      28  Female  Married, spouse present     1 child present            3   \n",
       "2      34    Male  Married, spouse present     1 child present            3   \n",
       "3      58  Female   Married, spouse absent     1 child present            2   \n",
       "4      39    Male     Never married/single  0 children present            1   \n",
       "...   ...     ...                      ...                 ...          ...   \n",
       "4360   67    Male  Married, spouse present  0 children present            2   \n",
       "4361   48    Male  Married, spouse present                   4            6   \n",
       "4362   33    Male   Married, spouse absent  0 children present            1   \n",
       "4363   22  Female     Never married/single  0 children present            2   \n",
       "4364   49  Female  Married, spouse present                   2            4   \n",
       "\n",
       "                    Education-degree_recode  \\\n",
       "0         Masterâ€™s or professional degree   \n",
       "1         Masterâ€™s or professional degree   \n",
       "2                       Bachelorâ€™s degree   \n",
       "3     1 or more years of college, no degree   \n",
       "4                       Bachelorâ€™s degree   \n",
       "...                                     ...   \n",
       "4360                    Bachelorâ€™s degree   \n",
       "4361                   Associateâ€™s degree   \n",
       "4362                   Associateâ€™s degree   \n",
       "4363  1 or more years of college, no degree   \n",
       "4364      Masterâ€™s or professional degree   \n",
       "\n",
       "                  Education-degree_recode 2  \\\n",
       "0             Master or professional degree   \n",
       "1             Master or professional degree   \n",
       "2                           Bachelor degree   \n",
       "3     1 or more years of college, no degree   \n",
       "4                           Bachelor degree   \n",
       "...                                     ...   \n",
       "4360                        Bachelor degree   \n",
       "4361                       Associate degree   \n",
       "4362                       Associate degree   \n",
       "4363  1 or more years of college, no degree   \n",
       "4364          Master or professional degree   \n",
       "\n",
       "                                  Education Race_ethnicity-multi_recode  \\\n",
       "0      Master or PhD or professional degree          Non-Hispanic White   \n",
       "1      Master or PhD or professional degree          Non-Hispanic White   \n",
       "2              Associate or Bachelor degree          Non-Hispanic White   \n",
       "3     1 or more years of college, no degree          Non-Hispanic White   \n",
       "4              Associate or Bachelor degree          Non-Hispanic White   \n",
       "...                                     ...                         ...   \n",
       "4360           Associate or Bachelor degree          Non-Hispanic White   \n",
       "4361           Associate or Bachelor degree          Non-Hispanic White   \n",
       "4362           Associate or Bachelor degree          Non-Hispanic Black   \n",
       "4363  1 or more years of college, no degree          Non-Hispanic White   \n",
       "4364   Master or PhD or professional degree          Non-Hispanic White   \n",
       "\n",
       "      Immigrate-year                          Birthplace_recode  \\\n",
       "0                  0  U.S. state, territory, or outlying region   \n",
       "1                  0  U.S. state, territory, or outlying region   \n",
       "2                  0  U.S. state, territory, or outlying region   \n",
       "3                  0  U.S. state, territory, or outlying region   \n",
       "4                  0  U.S. state, territory, or outlying region   \n",
       "...              ...                                        ...   \n",
       "4360               0  U.S. state, territory, or outlying region   \n",
       "4361               0  U.S. state, territory, or outlying region   \n",
       "4362            2017                                     Africa   \n",
       "4363               0  U.S. state, territory, or outlying region   \n",
       "4364               0  U.S. state, territory, or outlying region   \n",
       "\n",
       "                Speaks_English Employment_status  Income-wages Region_recode  \\\n",
       "0     Yes, speaks only English          Employed         63000         South   \n",
       "1     Yes, speaks only English          Employed         46000         South   \n",
       "2     Yes, speaks only English          Employed         45000         South   \n",
       "3     Yes, speaks only English          Employed         55000         South   \n",
       "4     Yes, speaks only English          Employed         12000         South   \n",
       "...                        ...               ...           ...           ...   \n",
       "4360  Yes, speaks only English          Employed         40000       Midwest   \n",
       "4361  Yes, speaks only English          Employed         65000       Midwest   \n",
       "4362     Yes, speaks very well          Employed         45000       Midwest   \n",
       "4363  Yes, speaks only English          Employed           500       Midwest   \n",
       "4364  Yes, speaks only English          Employed        498000       Midwest   \n",
       "\n",
       "     Region-division_recode       Moved  Year         state  \n",
       "0        East South Central  Same house  2020     Tennessee  \n",
       "1        East South Central  Same house  2020     Tennessee  \n",
       "2        East South Central  Same house  2020     Tennessee  \n",
       "3        East South Central  Same house  2020     Tennessee  \n",
       "4        East South Central  Same house  2020     Tennessee  \n",
       "...                     ...         ...   ...           ...  \n",
       "4360     West North Central  Same house  2020  North Dakota  \n",
       "4361     West North Central  Same house  2020  North Dakota  \n",
       "4362     West North Central  Same house  2020  North Dakota  \n",
       "4363     West North Central  Same house  2020  North Dakota  \n",
       "4364     West North Central  Same house  2020  North Dakota  \n",
       "\n",
       "[4365 rows x 19 columns]"
      ]
     },
     "execution_count": 41,
     "metadata": {},
     "output_type": "execute_result"
    }
   ],
   "source": [
    "df=pd.read_excel('Wages 2020Census cleaned.xlsx')\n",
    "df"
   ]
  },
  {
   "cell_type": "code",
   "execution_count": 42,
   "id": "c5379976-c12c-47e9-b6dd-b59bb60b5bf9",
   "metadata": {},
   "outputs": [],
   "source": [
    "X = df['Age'] # independent variable \n",
    "y = df['Income-wages']  # dependent variable"
   ]
  },
  {
   "cell_type": "code",
   "execution_count": 43,
   "id": "70252d52-9949-4b31-8423-a4d8050949b8",
   "metadata": {},
   "outputs": [],
   "source": [
    "from sklearn.model_selection import train_test_split"
   ]
  },
  {
   "cell_type": "code",
   "execution_count": 44,
   "id": "85cf61a7-bc56-4c17-b227-2a7dcf15cfd6",
   "metadata": {},
   "outputs": [],
   "source": [
    "# Split the data into trainingband testing sets (160training, 40 testing)\n",
    "X_train, X_test, y_train, y_test = train_test_split(X, y, test_size=0.2, random_state=42)                                                                                     "
   ]
  },
  {
   "cell_type": "code",
   "execution_count": null,
   "id": "f956969f-49a3-4b0f-8fe0-6c1b58e12206",
   "metadata": {},
   "outputs": [],
   "source": []
  },
  {
   "cell_type": "code",
   "execution_count": 1,
   "id": "2f9714d2-fe6c-4250-851d-1c842713c317",
   "metadata": {},
   "outputs": [
    {
     "ename": "NameError",
     "evalue": "name 'model' is not defined",
     "output_type": "error",
     "traceback": [
      "\u001b[1;31m---------------------------------------------------------------------------\u001b[0m",
      "\u001b[1;31mNameError\u001b[0m                                 Traceback (most recent call last)",
      "Cell \u001b[1;32mIn[1], line 1\u001b[0m\n\u001b[1;32m----> 1\u001b[0m slope \u001b[38;5;241m=\u001b[39m \u001b[43mmodel\u001b[49m\u001b[38;5;241m.\u001b[39mcoef_[\u001b[38;5;241m0\u001b[39m]  \u001b[38;5;66;03m# the coefficient (slope)\u001b[39;00m\n\u001b[0;32m      2\u001b[0m intercept \u001b[38;5;241m=\u001b[39m model\u001b[38;5;241m.\u001b[39mintercept_  \u001b[38;5;66;03m# the intercept (y-intercept)\u001b[39;00m\n",
      "\u001b[1;31mNameError\u001b[0m: name 'model' is not defined"
     ]
    }
   ],
   "source": [
    "slope = model.coef_[0]  # the coefficient (slope)\n",
    "intercept = model.intercept_  # the intercept (y-intercept)"
   ]
  },
  {
   "cell_type": "code",
   "execution_count": 46,
   "id": "fcda5eea-ead7-470b-865c-0cd32a6f5858",
   "metadata": {},
   "outputs": [],
   "source": [
    "from sklearn.model_selection import train_test_split"
   ]
  },
  {
   "cell_type": "code",
   "execution_count": 47,
   "id": "fe0ac967-5939-44d1-8461-d123e265f06a",
   "metadata": {},
   "outputs": [
    {
     "ename": "ValueError",
     "evalue": "Expected 2D array, got 1D array instead:\narray=[83 20 42 ... 52 41 38].\nReshape your data either using array.reshape(-1, 1) if your data has a single feature or array.reshape(1, -1) if it contains a single sample.",
     "output_type": "error",
     "traceback": [
      "\u001b[1;31m---------------------------------------------------------------------------\u001b[0m",
      "\u001b[1;31mValueError\u001b[0m                                Traceback (most recent call last)",
      "Cell \u001b[1;32mIn[47], line 3\u001b[0m\n\u001b[0;32m      1\u001b[0m \u001b[38;5;66;03m# Create and train the model\u001b[39;00m\n\u001b[0;32m      2\u001b[0m model \u001b[38;5;241m=\u001b[39m LinearRegression()\n\u001b[1;32m----> 3\u001b[0m \u001b[43mmodel\u001b[49m\u001b[38;5;241;43m.\u001b[39;49m\u001b[43mfit\u001b[49m\u001b[43m(\u001b[49m\u001b[43mX_train\u001b[49m\u001b[43m,\u001b[49m\u001b[43m \u001b[49m\u001b[43my_train\u001b[49m\u001b[43m)\u001b[49m\n",
      "File \u001b[1;32m~\\AppData\\Local\\Programs\\Python\\Python311\\Lib\\site-packages\\sklearn\\base.py:1152\u001b[0m, in \u001b[0;36m_fit_context.<locals>.decorator.<locals>.wrapper\u001b[1;34m(estimator, *args, **kwargs)\u001b[0m\n\u001b[0;32m   1145\u001b[0m     estimator\u001b[38;5;241m.\u001b[39m_validate_params()\n\u001b[0;32m   1147\u001b[0m \u001b[38;5;28;01mwith\u001b[39;00m config_context(\n\u001b[0;32m   1148\u001b[0m     skip_parameter_validation\u001b[38;5;241m=\u001b[39m(\n\u001b[0;32m   1149\u001b[0m         prefer_skip_nested_validation \u001b[38;5;129;01mor\u001b[39;00m global_skip_validation\n\u001b[0;32m   1150\u001b[0m     )\n\u001b[0;32m   1151\u001b[0m ):\n\u001b[1;32m-> 1152\u001b[0m     \u001b[38;5;28;01mreturn\u001b[39;00m \u001b[43mfit_method\u001b[49m\u001b[43m(\u001b[49m\u001b[43mestimator\u001b[49m\u001b[43m,\u001b[49m\u001b[43m \u001b[49m\u001b[38;5;241;43m*\u001b[39;49m\u001b[43margs\u001b[49m\u001b[43m,\u001b[49m\u001b[43m \u001b[49m\u001b[38;5;241;43m*\u001b[39;49m\u001b[38;5;241;43m*\u001b[39;49m\u001b[43mkwargs\u001b[49m\u001b[43m)\u001b[49m\n",
      "File \u001b[1;32m~\\AppData\\Local\\Programs\\Python\\Python311\\Lib\\site-packages\\sklearn\\linear_model\\_base.py:678\u001b[0m, in \u001b[0;36mLinearRegression.fit\u001b[1;34m(self, X, y, sample_weight)\u001b[0m\n\u001b[0;32m    674\u001b[0m n_jobs_ \u001b[38;5;241m=\u001b[39m \u001b[38;5;28mself\u001b[39m\u001b[38;5;241m.\u001b[39mn_jobs\n\u001b[0;32m    676\u001b[0m accept_sparse \u001b[38;5;241m=\u001b[39m \u001b[38;5;28;01mFalse\u001b[39;00m \u001b[38;5;28;01mif\u001b[39;00m \u001b[38;5;28mself\u001b[39m\u001b[38;5;241m.\u001b[39mpositive \u001b[38;5;28;01melse\u001b[39;00m [\u001b[38;5;124m\"\u001b[39m\u001b[38;5;124mcsr\u001b[39m\u001b[38;5;124m\"\u001b[39m, \u001b[38;5;124m\"\u001b[39m\u001b[38;5;124mcsc\u001b[39m\u001b[38;5;124m\"\u001b[39m, \u001b[38;5;124m\"\u001b[39m\u001b[38;5;124mcoo\u001b[39m\u001b[38;5;124m\"\u001b[39m]\n\u001b[1;32m--> 678\u001b[0m X, y \u001b[38;5;241m=\u001b[39m \u001b[38;5;28;43mself\u001b[39;49m\u001b[38;5;241;43m.\u001b[39;49m\u001b[43m_validate_data\u001b[49m\u001b[43m(\u001b[49m\n\u001b[0;32m    679\u001b[0m \u001b[43m    \u001b[49m\u001b[43mX\u001b[49m\u001b[43m,\u001b[49m\u001b[43m \u001b[49m\u001b[43my\u001b[49m\u001b[43m,\u001b[49m\u001b[43m \u001b[49m\u001b[43maccept_sparse\u001b[49m\u001b[38;5;241;43m=\u001b[39;49m\u001b[43maccept_sparse\u001b[49m\u001b[43m,\u001b[49m\u001b[43m \u001b[49m\u001b[43my_numeric\u001b[49m\u001b[38;5;241;43m=\u001b[39;49m\u001b[38;5;28;43;01mTrue\u001b[39;49;00m\u001b[43m,\u001b[49m\u001b[43m \u001b[49m\u001b[43mmulti_output\u001b[49m\u001b[38;5;241;43m=\u001b[39;49m\u001b[38;5;28;43;01mTrue\u001b[39;49;00m\n\u001b[0;32m    680\u001b[0m \u001b[43m\u001b[49m\u001b[43m)\u001b[49m\n\u001b[0;32m    682\u001b[0m has_sw \u001b[38;5;241m=\u001b[39m sample_weight \u001b[38;5;129;01mis\u001b[39;00m \u001b[38;5;129;01mnot\u001b[39;00m \u001b[38;5;28;01mNone\u001b[39;00m\n\u001b[0;32m    683\u001b[0m \u001b[38;5;28;01mif\u001b[39;00m has_sw:\n",
      "File \u001b[1;32m~\\AppData\\Local\\Programs\\Python\\Python311\\Lib\\site-packages\\sklearn\\base.py:622\u001b[0m, in \u001b[0;36mBaseEstimator._validate_data\u001b[1;34m(self, X, y, reset, validate_separately, cast_to_ndarray, **check_params)\u001b[0m\n\u001b[0;32m    620\u001b[0m         y \u001b[38;5;241m=\u001b[39m check_array(y, input_name\u001b[38;5;241m=\u001b[39m\u001b[38;5;124m\"\u001b[39m\u001b[38;5;124my\u001b[39m\u001b[38;5;124m\"\u001b[39m, \u001b[38;5;241m*\u001b[39m\u001b[38;5;241m*\u001b[39mcheck_y_params)\n\u001b[0;32m    621\u001b[0m     \u001b[38;5;28;01melse\u001b[39;00m:\n\u001b[1;32m--> 622\u001b[0m         X, y \u001b[38;5;241m=\u001b[39m \u001b[43mcheck_X_y\u001b[49m\u001b[43m(\u001b[49m\u001b[43mX\u001b[49m\u001b[43m,\u001b[49m\u001b[43m \u001b[49m\u001b[43my\u001b[49m\u001b[43m,\u001b[49m\u001b[43m \u001b[49m\u001b[38;5;241;43m*\u001b[39;49m\u001b[38;5;241;43m*\u001b[39;49m\u001b[43mcheck_params\u001b[49m\u001b[43m)\u001b[49m\n\u001b[0;32m    623\u001b[0m     out \u001b[38;5;241m=\u001b[39m X, y\n\u001b[0;32m    625\u001b[0m \u001b[38;5;28;01mif\u001b[39;00m \u001b[38;5;129;01mnot\u001b[39;00m no_val_X \u001b[38;5;129;01mand\u001b[39;00m check_params\u001b[38;5;241m.\u001b[39mget(\u001b[38;5;124m\"\u001b[39m\u001b[38;5;124mensure_2d\u001b[39m\u001b[38;5;124m\"\u001b[39m, \u001b[38;5;28;01mTrue\u001b[39;00m):\n",
      "File \u001b[1;32m~\\AppData\\Local\\Programs\\Python\\Python311\\Lib\\site-packages\\sklearn\\utils\\validation.py:1146\u001b[0m, in \u001b[0;36mcheck_X_y\u001b[1;34m(X, y, accept_sparse, accept_large_sparse, dtype, order, copy, force_all_finite, ensure_2d, allow_nd, multi_output, ensure_min_samples, ensure_min_features, y_numeric, estimator)\u001b[0m\n\u001b[0;32m   1141\u001b[0m         estimator_name \u001b[38;5;241m=\u001b[39m _check_estimator_name(estimator)\n\u001b[0;32m   1142\u001b[0m     \u001b[38;5;28;01mraise\u001b[39;00m \u001b[38;5;167;01mValueError\u001b[39;00m(\n\u001b[0;32m   1143\u001b[0m         \u001b[38;5;124mf\u001b[39m\u001b[38;5;124m\"\u001b[39m\u001b[38;5;132;01m{\u001b[39;00mestimator_name\u001b[38;5;132;01m}\u001b[39;00m\u001b[38;5;124m requires y to be passed, but the target y is None\u001b[39m\u001b[38;5;124m\"\u001b[39m\n\u001b[0;32m   1144\u001b[0m     )\n\u001b[1;32m-> 1146\u001b[0m X \u001b[38;5;241m=\u001b[39m \u001b[43mcheck_array\u001b[49m\u001b[43m(\u001b[49m\n\u001b[0;32m   1147\u001b[0m \u001b[43m    \u001b[49m\u001b[43mX\u001b[49m\u001b[43m,\u001b[49m\n\u001b[0;32m   1148\u001b[0m \u001b[43m    \u001b[49m\u001b[43maccept_sparse\u001b[49m\u001b[38;5;241;43m=\u001b[39;49m\u001b[43maccept_sparse\u001b[49m\u001b[43m,\u001b[49m\n\u001b[0;32m   1149\u001b[0m \u001b[43m    \u001b[49m\u001b[43maccept_large_sparse\u001b[49m\u001b[38;5;241;43m=\u001b[39;49m\u001b[43maccept_large_sparse\u001b[49m\u001b[43m,\u001b[49m\n\u001b[0;32m   1150\u001b[0m \u001b[43m    \u001b[49m\u001b[43mdtype\u001b[49m\u001b[38;5;241;43m=\u001b[39;49m\u001b[43mdtype\u001b[49m\u001b[43m,\u001b[49m\n\u001b[0;32m   1151\u001b[0m \u001b[43m    \u001b[49m\u001b[43morder\u001b[49m\u001b[38;5;241;43m=\u001b[39;49m\u001b[43morder\u001b[49m\u001b[43m,\u001b[49m\n\u001b[0;32m   1152\u001b[0m \u001b[43m    \u001b[49m\u001b[43mcopy\u001b[49m\u001b[38;5;241;43m=\u001b[39;49m\u001b[43mcopy\u001b[49m\u001b[43m,\u001b[49m\n\u001b[0;32m   1153\u001b[0m \u001b[43m    \u001b[49m\u001b[43mforce_all_finite\u001b[49m\u001b[38;5;241;43m=\u001b[39;49m\u001b[43mforce_all_finite\u001b[49m\u001b[43m,\u001b[49m\n\u001b[0;32m   1154\u001b[0m \u001b[43m    \u001b[49m\u001b[43mensure_2d\u001b[49m\u001b[38;5;241;43m=\u001b[39;49m\u001b[43mensure_2d\u001b[49m\u001b[43m,\u001b[49m\n\u001b[0;32m   1155\u001b[0m \u001b[43m    \u001b[49m\u001b[43mallow_nd\u001b[49m\u001b[38;5;241;43m=\u001b[39;49m\u001b[43mallow_nd\u001b[49m\u001b[43m,\u001b[49m\n\u001b[0;32m   1156\u001b[0m \u001b[43m    \u001b[49m\u001b[43mensure_min_samples\u001b[49m\u001b[38;5;241;43m=\u001b[39;49m\u001b[43mensure_min_samples\u001b[49m\u001b[43m,\u001b[49m\n\u001b[0;32m   1157\u001b[0m \u001b[43m    \u001b[49m\u001b[43mensure_min_features\u001b[49m\u001b[38;5;241;43m=\u001b[39;49m\u001b[43mensure_min_features\u001b[49m\u001b[43m,\u001b[49m\n\u001b[0;32m   1158\u001b[0m \u001b[43m    \u001b[49m\u001b[43mestimator\u001b[49m\u001b[38;5;241;43m=\u001b[39;49m\u001b[43mestimator\u001b[49m\u001b[43m,\u001b[49m\n\u001b[0;32m   1159\u001b[0m \u001b[43m    \u001b[49m\u001b[43minput_name\u001b[49m\u001b[38;5;241;43m=\u001b[39;49m\u001b[38;5;124;43m\"\u001b[39;49m\u001b[38;5;124;43mX\u001b[39;49m\u001b[38;5;124;43m\"\u001b[39;49m\u001b[43m,\u001b[49m\n\u001b[0;32m   1160\u001b[0m \u001b[43m\u001b[49m\u001b[43m)\u001b[49m\n\u001b[0;32m   1162\u001b[0m y \u001b[38;5;241m=\u001b[39m _check_y(y, multi_output\u001b[38;5;241m=\u001b[39mmulti_output, y_numeric\u001b[38;5;241m=\u001b[39my_numeric, estimator\u001b[38;5;241m=\u001b[39mestimator)\n\u001b[0;32m   1164\u001b[0m check_consistent_length(X, y)\n",
      "File \u001b[1;32m~\\AppData\\Local\\Programs\\Python\\Python311\\Lib\\site-packages\\sklearn\\utils\\validation.py:938\u001b[0m, in \u001b[0;36mcheck_array\u001b[1;34m(array, accept_sparse, accept_large_sparse, dtype, order, copy, force_all_finite, ensure_2d, allow_nd, ensure_min_samples, ensure_min_features, estimator, input_name)\u001b[0m\n\u001b[0;32m    936\u001b[0m     \u001b[38;5;66;03m# If input is 1D raise error\u001b[39;00m\n\u001b[0;32m    937\u001b[0m     \u001b[38;5;28;01mif\u001b[39;00m array\u001b[38;5;241m.\u001b[39mndim \u001b[38;5;241m==\u001b[39m \u001b[38;5;241m1\u001b[39m:\n\u001b[1;32m--> 938\u001b[0m         \u001b[38;5;28;01mraise\u001b[39;00m \u001b[38;5;167;01mValueError\u001b[39;00m(\n\u001b[0;32m    939\u001b[0m             \u001b[38;5;124m\"\u001b[39m\u001b[38;5;124mExpected 2D array, got 1D array instead:\u001b[39m\u001b[38;5;130;01m\\n\u001b[39;00m\u001b[38;5;124marray=\u001b[39m\u001b[38;5;132;01m{}\u001b[39;00m\u001b[38;5;124m.\u001b[39m\u001b[38;5;130;01m\\n\u001b[39;00m\u001b[38;5;124m\"\u001b[39m\n\u001b[0;32m    940\u001b[0m             \u001b[38;5;124m\"\u001b[39m\u001b[38;5;124mReshape your data either using array.reshape(-1, 1) if \u001b[39m\u001b[38;5;124m\"\u001b[39m\n\u001b[0;32m    941\u001b[0m             \u001b[38;5;124m\"\u001b[39m\u001b[38;5;124myour data has a single feature or array.reshape(1, -1) \u001b[39m\u001b[38;5;124m\"\u001b[39m\n\u001b[0;32m    942\u001b[0m             \u001b[38;5;124m\"\u001b[39m\u001b[38;5;124mif it contains a single sample.\u001b[39m\u001b[38;5;124m\"\u001b[39m\u001b[38;5;241m.\u001b[39mformat(array)\n\u001b[0;32m    943\u001b[0m         )\n\u001b[0;32m    945\u001b[0m \u001b[38;5;28;01mif\u001b[39;00m dtype_numeric \u001b[38;5;129;01mand\u001b[39;00m \u001b[38;5;28mhasattr\u001b[39m(array\u001b[38;5;241m.\u001b[39mdtype, \u001b[38;5;124m\"\u001b[39m\u001b[38;5;124mkind\u001b[39m\u001b[38;5;124m\"\u001b[39m) \u001b[38;5;129;01mand\u001b[39;00m array\u001b[38;5;241m.\u001b[39mdtype\u001b[38;5;241m.\u001b[39mkind \u001b[38;5;129;01min\u001b[39;00m \u001b[38;5;124m\"\u001b[39m\u001b[38;5;124mUSV\u001b[39m\u001b[38;5;124m\"\u001b[39m:\n\u001b[0;32m    946\u001b[0m     \u001b[38;5;28;01mraise\u001b[39;00m \u001b[38;5;167;01mValueError\u001b[39;00m(\n\u001b[0;32m    947\u001b[0m         \u001b[38;5;124m\"\u001b[39m\u001b[38;5;124mdtype=\u001b[39m\u001b[38;5;124m'\u001b[39m\u001b[38;5;124mnumeric\u001b[39m\u001b[38;5;124m'\u001b[39m\u001b[38;5;124m is not compatible with arrays of bytes/strings.\u001b[39m\u001b[38;5;124m\"\u001b[39m\n\u001b[0;32m    948\u001b[0m         \u001b[38;5;124m\"\u001b[39m\u001b[38;5;124mConvert your data to numeric values explicitly instead.\u001b[39m\u001b[38;5;124m\"\u001b[39m\n\u001b[0;32m    949\u001b[0m     )\n",
      "\u001b[1;31mValueError\u001b[0m: Expected 2D array, got 1D array instead:\narray=[83 20 42 ... 52 41 38].\nReshape your data either using array.reshape(-1, 1) if your data has a single feature or array.reshape(1, -1) if it contains a single sample."
     ]
    }
   ],
   "source": [
    "# Create and train the model\n",
    "model = LinearRegression()\n",
    "model.fit(X_train, y_train)"
   ]
  },
  {
   "cell_type": "code",
   "execution_count": 48,
   "id": "4aed93d5-5e2d-4786-b69f-4583f396d50b",
   "metadata": {},
   "outputs": [
    {
     "ename": "NameError",
     "evalue": "name 'slope' is not defined",
     "output_type": "error",
     "traceback": [
      "\u001b[1;31m---------------------------------------------------------------------------\u001b[0m",
      "\u001b[1;31mNameError\u001b[0m                                 Traceback (most recent call last)",
      "Cell \u001b[1;32mIn[48], line 2\u001b[0m\n\u001b[0;32m      1\u001b[0m \u001b[38;5;66;03m# Generate the linear regression equation\u001b[39;00m\n\u001b[1;32m----> 2\u001b[0m equation \u001b[38;5;241m=\u001b[39m \u001b[38;5;124mf\u001b[39m\u001b[38;5;124m'\u001b[39m\u001b[38;5;124my = \u001b[39m\u001b[38;5;132;01m{\u001b[39;00m\u001b[43mslope\u001b[49m\u001b[38;5;132;01m:\u001b[39;00m\u001b[38;5;124m.2f\u001b[39m\u001b[38;5;132;01m}\u001b[39;00m\u001b[38;5;124m * x + \u001b[39m\u001b[38;5;132;01m{\u001b[39;00mintercept\u001b[38;5;132;01m:\u001b[39;00m\u001b[38;5;124m.2f\u001b[39m\u001b[38;5;132;01m}\u001b[39;00m\u001b[38;5;124m'\u001b[39m\n\u001b[0;32m      3\u001b[0m \u001b[38;5;28mprint\u001b[39m(\u001b[38;5;124m'\u001b[39m\u001b[38;5;124mLinear regression equation:\u001b[39m\u001b[38;5;124m'\u001b[39m, equation)\n",
      "\u001b[1;31mNameError\u001b[0m: name 'slope' is not defined"
     ]
    }
   ],
   "source": [
    "# Generate the linear regression equation\n",
    "equation = f'y = {slope:.2f} * x + {intercept:.2f}'\n",
    "print('Linear regression equation:', equation)\n"
   ]
  },
  {
   "cell_type": "markdown",
   "id": "04274071-ad1f-4090-997e-062e01ea4ba8",
   "metadata": {},
   "source": [
    "## Question number4"
   ]
  },
  {
   "cell_type": "code",
   "execution_count": 49,
   "id": "7d51bdeb-f4b6-4505-8dbd-b36ebe170928",
   "metadata": {},
   "outputs": [],
   "source": [
    "# question4(a) create a 5,3 and 3,2 matrix"
   ]
  },
  {
   "cell_type": "code",
   "execution_count": 50,
   "id": "2c0e6efe-b748-4059-8f3e-4efc1a800a89",
   "metadata": {},
   "outputs": [],
   "source": [
    "import numpy as np"
   ]
  },
  {
   "cell_type": "code",
   "execution_count": 51,
   "id": "ad18e471-3857-4609-9554-3b013481abe2",
   "metadata": {},
   "outputs": [
    {
     "name": "stdout",
     "output_type": "stream",
     "text": [
      "[[2 2 1]\n",
      " [1 1 1]\n",
      " [0 3 2]\n",
      " [3 4 0]\n",
      " [2 1 2]]\n"
     ]
    }
   ],
   "source": [
    "matrix_x=np.array([[2,2,1],[1,1,1],[0,3,2],[3,4,0],[2,1,2]])\n",
    "print(matrix_x)"
   ]
  },
  {
   "cell_type": "code",
   "execution_count": 52,
   "id": "0e87cb3f-330d-4b3f-b57e-8d6eba3b4116",
   "metadata": {},
   "outputs": [
    {
     "name": "stdout",
     "output_type": "stream",
     "text": [
      "[[3 2]\n",
      " [1 2]\n",
      " [4 5]]\n"
     ]
    }
   ],
   "source": [
    "matrix_b=np.array([[3,2],[1,2],[4,5]])\n",
    "print(matrix_b)"
   ]
  },
  {
   "cell_type": "code",
   "execution_count": 53,
   "id": "f60f8bb9-5a43-45f0-bc4a-a3da1c8c727a",
   "metadata": {},
   "outputs": [
    {
     "data": {
      "text/plain": [
       "array([[12, 13],\n",
       "       [ 8,  9],\n",
       "       [11, 16],\n",
       "       [13, 14],\n",
       "       [15, 16]])"
      ]
     },
     "execution_count": 53,
     "metadata": {},
     "output_type": "execute_result"
    }
   ],
   "source": [
    "product=np.dot(matrix_x,matrix_b) \n",
    "product"
   ]
  },
  {
   "cell_type": "code",
   "execution_count": 54,
   "id": "1308ec1c-74be-4f6b-a658-f0aeff3ce3ce",
   "metadata": {},
   "outputs": [],
   "source": [
    "#question4b A 3,3 idenity matrix"
   ]
  },
  {
   "cell_type": "code",
   "execution_count": 55,
   "id": "71ba86c5-9879-402c-8eae-b92bcc7686dd",
   "metadata": {},
   "outputs": [],
   "source": [
    "from numpy import random"
   ]
  },
  {
   "cell_type": "code",
   "execution_count": 56,
   "id": "a011a827-2018-48f3-ab0e-88d9787617e7",
   "metadata": {},
   "outputs": [
    {
     "name": "stdout",
     "output_type": "stream",
     "text": [
      "[[ 1.4325442   0.55121887 -0.91215988]\n",
      " [ 0.67669558 -1.66797996 -2.26486849]\n",
      " [ 0.4741564   0.42965466  1.42342353]]\n"
     ]
    }
   ],
   "source": [
    "A=random.normal(size=(3,3)) # matrix with equal rows and columns\n",
    "print(A)"
   ]
  },
  {
   "cell_type": "code",
   "execution_count": 2,
   "id": "9ab83916-db0a-4b52-8fca-04880ac4e498",
   "metadata": {},
   "outputs": [],
   "source": [
    "#question(c) vector matrix"
   ]
  },
  {
   "cell_type": "code",
   "execution_count": 3,
   "id": "da84a7bf-498f-4310-b5a0-e1e61c374aba",
   "metadata": {},
   "outputs": [
    {
     "ename": "NameError",
     "evalue": "name 'np' is not defined",
     "output_type": "error",
     "traceback": [
      "\u001b[1;31m---------------------------------------------------------------------------\u001b[0m",
      "\u001b[1;31mNameError\u001b[0m                                 Traceback (most recent call last)",
      "Cell \u001b[1;32mIn[3], line 1\u001b[0m\n\u001b[1;32m----> 1\u001b[0m v\u001b[38;5;241m=\u001b[39m\u001b[43mnp\u001b[49m\u001b[38;5;241m.\u001b[39marange(\u001b[38;5;241m10\u001b[39m,\u001b[38;5;241m50\u001b[39m)\n\u001b[0;32m      2\u001b[0m \u001b[38;5;28mprint\u001b[39m(v)\n",
      "\u001b[1;31mNameError\u001b[0m: name 'np' is not defined"
     ]
    }
   ],
   "source": [
    "v=np.arange(10,50)\n",
    "print(v)"
   ]
  },
  {
   "cell_type": "code",
   "execution_count": 4,
   "id": "17c1ba2b-f11b-446f-a3dc-d69c3cb80d95",
   "metadata": {},
   "outputs": [],
   "source": [
    "#question(d) null vector is a matrix with zeros"
   ]
  },
  {
   "cell_type": "code",
   "execution_count": 5,
   "id": "e75bd5dc-61e3-4817-82fa-e5123c756282",
   "metadata": {},
   "outputs": [
    {
     "ename": "NameError",
     "evalue": "name 'np' is not defined",
     "output_type": "error",
     "traceback": [
      "\u001b[1;31m---------------------------------------------------------------------------\u001b[0m",
      "\u001b[1;31mNameError\u001b[0m                                 Traceback (most recent call last)",
      "Cell \u001b[1;32mIn[5], line 1\u001b[0m\n\u001b[1;32m----> 1\u001b[0m vector_n\u001b[38;5;241m=\u001b[39m\u001b[43mnp\u001b[49m\u001b[38;5;241m.\u001b[39mzeros(\u001b[38;5;241m10\u001b[39m)\n\u001b[0;32m      2\u001b[0m \u001b[38;5;28mprint\u001b[39m(vector_n)\n",
      "\u001b[1;31mNameError\u001b[0m: name 'np' is not defined"
     ]
    }
   ],
   "source": [
    "vector_n=np.zeros(10)\n",
    "print(vector_n)"
   ]
  },
  {
   "cell_type": "code",
   "execution_count": 6,
   "id": "59d30da6-4ed7-4eef-b926-a1da4aabd0ff",
   "metadata": {},
   "outputs": [],
   "source": [
    "#question4(e)"
   ]
  },
  {
   "cell_type": "code",
   "execution_count": 7,
   "id": "43cbd2b3-e8a3-40d5-8605-64ff9bc0950a",
   "metadata": {},
   "outputs": [],
   "source": [
    "from numpy import random"
   ]
  },
  {
   "cell_type": "code",
   "execution_count": 8,
   "id": "e3e58c23-b3c9-4e06-8b63-d9999b0b0a97",
   "metadata": {},
   "outputs": [
    {
     "data": {
      "text/plain": [
       "array([[[ 1.06833988, -0.34153721,  0.83967239],\n",
       "        [-2.40839816, -1.458238  , -1.1718814 ],\n",
       "        [-0.46223609,  1.47411832,  1.0490845 ]],\n",
       "\n",
       "       [[-0.35831416,  0.24292063,  1.74181709],\n",
       "        [ 1.13030305,  1.17048915, -0.1976035 ],\n",
       "        [ 0.87218159,  1.31268846,  1.14478015]],\n",
       "\n",
       "       [[-0.23149181, -0.03516603, -1.06774803],\n",
       "        [-1.73214693,  0.90155428,  0.67467913],\n",
       "        [ 0.90222803, -0.6648656 ,  0.80479246]]])"
      ]
     },
     "execution_count": 8,
     "metadata": {},
     "output_type": "execute_result"
    }
   ],
   "source": [
    "m=random.normal(size=(3,3,3))\n",
    "m"
   ]
  },
  {
   "cell_type": "code",
   "execution_count": 9,
   "id": "b55701f0-7fac-49d0-bf15-41e54beba843",
   "metadata": {},
   "outputs": [],
   "source": [
    "#question4(f) a 5 by 5 matrix with values 1,2,3,4 below the diagonal"
   ]
  },
  {
   "cell_type": "code",
   "execution_count": 10,
   "id": "94e533ee-edb9-4507-b525-1163c896e839",
   "metadata": {},
   "outputs": [
    {
     "ename": "NameError",
     "evalue": "name 'np' is not defined",
     "output_type": "error",
     "traceback": [
      "\u001b[1;31m---------------------------------------------------------------------------\u001b[0m",
      "\u001b[1;31mNameError\u001b[0m                                 Traceback (most recent call last)",
      "Cell \u001b[1;32mIn[10], line 1\u001b[0m\n\u001b[1;32m----> 1\u001b[0m matrix_d\u001b[38;5;241m=\u001b[39m\u001b[43mnp\u001b[49m\u001b[38;5;241m.\u001b[39mzeros((\u001b[38;5;241m5\u001b[39m,\u001b[38;5;241m5\u001b[39m),dtype\u001b[38;5;241m=\u001b[39m\u001b[38;5;28mint\u001b[39m)\n\u001b[0;32m      2\u001b[0m np\u001b[38;5;241m.\u001b[39mfill_diagonal(matrix_d[\u001b[38;5;241m1\u001b[39m:],[\u001b[38;5;241m1\u001b[39m,\u001b[38;5;241m2\u001b[39m,\u001b[38;5;241m3\u001b[39m,\u001b[38;5;241m4\u001b[39m])\n\u001b[0;32m      3\u001b[0m matrix_d\n",
      "\u001b[1;31mNameError\u001b[0m: name 'np' is not defined"
     ]
    }
   ],
   "source": [
    "matrix_d=np.zeros((5,5),dtype=int)\n",
    "np.fill_diagonal(matrix_d[1:],[1,2,3,4])\n",
    "matrix_d"
   ]
  },
  {
   "cell_type": "code",
   "execution_count": 11,
   "id": "09788fe5-b3dd-4d3d-b1d2-ec8e263092ad",
   "metadata": {},
   "outputs": [],
   "source": [
    "#question4(g) a  normalise 5,5  random matrix"
   ]
  },
  {
   "cell_type": "code",
   "execution_count": 12,
   "id": "30fdde00-40ac-4578-baff-d37aa370a5bb",
   "metadata": {},
   "outputs": [],
   "source": [
    "from numpy import random"
   ]
  },
  {
   "cell_type": "code",
   "execution_count": 13,
   "id": "775326c0-bbd0-4583-9b21-f6af9ef05825",
   "metadata": {},
   "outputs": [
    {
     "data": {
      "text/plain": [
       "array([[ 0.13253217, -1.25509971,  0.50631159, -0.20501417, -0.83570851],\n",
       "       [ 2.77943902, -0.21699293, -2.08151764, -0.11347541,  0.35801452],\n",
       "       [ 1.53021745,  0.29459355,  0.16966828, -2.3462282 , -0.03680181],\n",
       "       [ 0.849136  ,  1.39997678,  0.60950531, -0.18641147,  0.19786142],\n",
       "       [-1.28497945,  1.82014698,  0.86825742,  0.88220289,  1.9773219 ]])"
      ]
     },
     "execution_count": 13,
     "metadata": {},
     "output_type": "execute_result"
    }
   ],
   "source": [
    "matrix= random.normal(size=(5,5))\n",
    "matrix"
   ]
  },
  {
   "cell_type": "code",
   "execution_count": 69,
   "id": "c1eb858e-ead1-40f6-8658-37bb4e0a0ea9",
   "metadata": {},
   "outputs": [],
   "source": [
    "#question(4)h date of yesterday"
   ]
  },
  {
   "cell_type": "code",
   "execution_count": 83,
   "id": "6e4897f1-e974-4049-aff2-a753c35b32a8",
   "metadata": {},
   "outputs": [
    {
     "name": "stdout",
     "output_type": "stream",
     "text": [
      "1.25.2\n"
     ]
    }
   ],
   "source": [
    "import numpy as np\n"
   ]
  },
  {
   "cell_type": "code",
   "execution_count": 82,
   "id": "e28a9b15-a523-48dc-b6c8-fe90ad624c81",
   "metadata": {},
   "outputs": [
    {
     "data": {
      "text/plain": [
       "numpy.datetime64('2024-12-12')"
      ]
     },
     "execution_count": 82,
     "metadata": {},
     "output_type": "execute_result"
    }
   ],
   "source": [
    "today=np.datetime64('today', 'D')\n",
    "today"
   ]
  },
  {
   "cell_type": "code",
   "execution_count": 84,
   "id": "63750818-b538-4964-a5b9-9b1131b51e24",
   "metadata": {
    "scrolled": true
   },
   "outputs": [
    {
     "ename": "NameError",
     "evalue": "name 'timedelta64' is not defined",
     "output_type": "error",
     "traceback": [
      "\u001b[1;31m---------------------------------------------------------------------------\u001b[0m",
      "\u001b[1;31mNameError\u001b[0m                                 Traceback (most recent call last)",
      "Cell \u001b[1;32mIn[84], line 1\u001b[0m\n\u001b[1;32m----> 1\u001b[0m yesterday\u001b[38;5;241m=\u001b[39mtoday\u001b[38;5;241m-\u001b[39m\u001b[43mtimedelta64\u001b[49m(days\u001b[38;5;241m=\u001b[39m\u001b[38;5;241m1\u001b[39m)\n\u001b[0;32m      2\u001b[0m yesterday\n",
      "\u001b[1;31mNameError\u001b[0m: name 'timedelta64' is not defined"
     ]
    }
   ],
   "source": [
    "yesterday=today-timedelta64(days=1)\n",
    "yesterday"
   ]
  },
  {
   "cell_type": "code",
   "execution_count": 77,
   "id": "bc3034bb-10b9-4312-8149-61a7e8bf65d6",
   "metadata": {},
   "outputs": [],
   "source": [
    "#  question 4(h)date of today"
   ]
  },
  {
   "cell_type": "code",
   "execution_count": 86,
   "id": "772677eb-e5f5-4513-bc94-cabf8acaf63d",
   "metadata": {},
   "outputs": [],
   "source": [
    "import numpy as np\n",
    "from datetime import date, timedelta"
   ]
  },
  {
   "cell_type": "code",
   "execution_count": 87,
   "id": "4ed83402-6589-4909-a652-7d07c227c5be",
   "metadata": {},
   "outputs": [
    {
     "data": {
      "text/plain": [
       "numpy.datetime64('2024-12-12')"
      ]
     },
     "execution_count": 87,
     "metadata": {},
     "output_type": "execute_result"
    }
   ],
   "source": [
    "today=np.datetime64('today','D')\n",
    "today"
   ]
  },
  {
   "cell_type": "code",
   "execution_count": 92,
   "id": "60782e85-cf3c-4ad1-bdcb-895931a74699",
   "metadata": {},
   "outputs": [],
   "source": [
    "# question(4)date tomorrow\n",
    "from datetime import datetime, timedelta"
   ]
  },
  {
   "cell_type": "code",
   "execution_count": 93,
   "id": "02fdf9b0-e949-449e-8e43-db866e63706c",
   "metadata": {},
   "outputs": [
    {
     "ename": "TypeError",
     "evalue": "unsupported type for timedelta seconds component: str",
     "output_type": "error",
     "traceback": [
      "\u001b[1;31m---------------------------------------------------------------------------\u001b[0m",
      "\u001b[1;31mTypeError\u001b[0m                                 Traceback (most recent call last)",
      "Cell \u001b[1;32mIn[93], line 1\u001b[0m\n\u001b[1;32m----> 1\u001b[0m tomorrow\u001b[38;5;241m=\u001b[39mtoday\u001b[38;5;241m+\u001b[39m\u001b[43mtimedelta\u001b[49m\u001b[43m(\u001b[49m\u001b[38;5;241;43m1\u001b[39;49m\u001b[43m,\u001b[49m\u001b[38;5;124;43m'\u001b[39;49m\u001b[38;5;124;43mD\u001b[39;49m\u001b[38;5;124;43m'\u001b[39;49m\u001b[43m)\u001b[49m\n\u001b[0;32m      2\u001b[0m tomorrow\n",
      "\u001b[1;31mTypeError\u001b[0m: unsupported type for timedelta seconds component: str"
     ]
    }
   ],
   "source": [
    "tomorrow=today+timedelta(1,'D')\n",
    "tomorrow"
   ]
  },
  {
   "cell_type": "code",
   "execution_count": 94,
   "id": "fe4eaecc-1988-4c4e-8b44-b7590b36685d",
   "metadata": {},
   "outputs": [],
   "source": [
    "# question 4(i) "
   ]
  },
  {
   "cell_type": "code",
   "execution_count": 95,
   "id": "4abf7ab6-0440-4c1f-80e6-efc95868620b",
   "metadata": {},
   "outputs": [
    {
     "data": {
      "text/plain": [
       "array([1, 2, 0, 0, 4, 0])"
      ]
     },
     "execution_count": 95,
     "metadata": {},
     "output_type": "execute_result"
    }
   ],
   "source": [
    "elements=np.array([1,2,0,0,4,0])\n",
    "elements\n"
   ]
  },
  {
   "cell_type": "code",
   "execution_count": null,
   "id": "750aac47-cb00-4d36-bdf1-585e088fae2f",
   "metadata": {},
   "outputs": [],
   "source": []
  },
  {
   "cell_type": "code",
   "execution_count": null,
   "id": "d86873ad-7cf6-4a15-aa53-62f19de35dc2",
   "metadata": {},
   "outputs": [],
   "source": []
  }
 ],
 "metadata": {
  "kernelspec": {
   "display_name": "Python 3",
   "language": "python",
   "name": "python3"
  },
  "language_info": {
   "codemirror_mode": {
    "name": "ipython",
    "version": 3
   },
   "file_extension": ".py",
   "mimetype": "text/x-python",
   "name": "python",
   "nbconvert_exporter": "python",
   "pygments_lexer": "ipython3",
   "version": "3.11.4"
  }
 },
 "nbformat": 4,
 "nbformat_minor": 5
}
